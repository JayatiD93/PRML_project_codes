{
  "nbformat": 4,
  "nbformat_minor": 0,
  "metadata": {
    "colab": {
      "name": "ResNet_Imagenet.ipynb",
      "provenance": [],
      "collapsed_sections": []
    },
    "kernelspec": {
      "name": "python3",
      "display_name": "Python 3"
    },
    "language_info": {
      "name": "python"
    },
    "accelerator": "GPU"
  },
  "cells": [
    {
      "cell_type": "code",
      "metadata": {
        "id": "eo_46iHKlSe7"
      },
      "source": [
        "# example of a CNN model with an identity or projection residual module\n",
        "# Example of creating a CNN model with a VGG block\n",
        "from keras.models import Model\n",
        "from keras.layers import Input\n",
        "from keras.layers import Conv2D\n",
        "from keras.layers import MaxPooling2D\n",
        "\n",
        "from keras.layers import BatchNormalization\n",
        "from tensorflow.keras import activations\n",
        "from tensorflow.keras import layers\n",
        "from keras.layers import GlobalAveragePooling2D\n",
        "from keras.layers import Dense\n",
        "from tensorflow.keras.utils import plot_model\n",
        "from tensorflow.keras.utils import to_categorical\n",
        "from keras.layers import Activation\n",
        "\n",
        "import sys\n",
        "from matplotlib import pyplot\n",
        "from keras.datasets import cifar10\n",
        "from keras.models import Sequential\n",
        "from keras.layers import Flatten\n",
        "from keras.optimizers import SGD\n",
        "from keras.layers import add\n",
        "import tensorflow as tf"
      ],
      "execution_count": null,
      "outputs": []
    },
    {
      "cell_type": "code",
      "metadata": {
        "colab": {
          "base_uri": "https://localhost:8080/"
        },
        "id": "clxN6siBpyrX",
        "outputId": "69d66d15-855c-449d-9fc7-43daa82a68a7"
      },
      "source": [
        "from google.colab import drive\n",
        "drive.mount('/content/drive')"
      ],
      "execution_count": null,
      "outputs": [
        {
          "output_type": "stream",
          "text": [
            "Mounted at /content/drive\n"
          ],
          "name": "stdout"
        }
      ]
    },
    {
      "cell_type": "code",
      "metadata": {
        "colab": {
          "base_uri": "https://localhost:8080/"
        },
        "id": "EmZvtwmhtIFV",
        "outputId": "aba6798d-3b40-4c9f-827c-9b70bb0ff290"
      },
      "source": [
        "%cd /content/drive/MyDrive/PRML"
      ],
      "execution_count": null,
      "outputs": [
        {
          "output_type": "stream",
          "text": [
            "/content/drive/MyDrive/PRML\n"
          ],
          "name": "stdout"
        }
      ]
    },
    {
      "cell_type": "code",
      "metadata": {
        "id": "ygk9Tib-tMw0"
      },
      "source": [
        "# function for creating an identity or projection residual module\n",
        "def residual_module(layer_in, n_filters, strides=(1,1)):\n",
        "  bn_axis = 3\n",
        "  conv1 = Conv2D(n_filters, (3,3), strides=strides, padding='same', kernel_initializer='he_normal')(layer_in)\n",
        "  conv1a = BatchNormalization(axis=bn_axis)(conv1)\n",
        "  conv1a = Activation('relu')(conv1a)\n",
        "  # conv2\n",
        "  conv2 = Conv2D(n_filters, (3,3), padding='same', kernel_initializer='he_normal')(conv1a)\n",
        "  conv2 = BatchNormalization(axis=bn_axis)(conv2)\n",
        "  if strides==(1,1):\n",
        "    conv2 = add([layer_in, conv2])\n",
        "  else:\n",
        "    conv2 = add([conv1, conv2])\n",
        "  conv2 = Activation('relu')(conv2)\n",
        "  return conv2"
      ],
      "execution_count": null,
      "outputs": []
    },
    {
      "cell_type": "code",
      "metadata": {
        "id": "DIQDC1sPtV9V"
      },
      "source": [
        "from keras.preprocessing.image import ImageDataGenerator\n",
        "\n",
        "# create a new generator\n",
        "imagegen = ImageDataGenerator()"
      ],
      "execution_count": null,
      "outputs": []
    },
    {
      "cell_type": "code",
      "metadata": {
        "colab": {
          "base_uri": "https://localhost:8080/"
        },
        "id": "l7VwyTrft0Ec",
        "outputId": "01f1f9be-17a2-4ece-eeb4-89ac198d4fa5"
      },
      "source": [
        "# load train data\n",
        "train = imagegen.flow_from_directory(\"/content/drive/MyDrive/PRML/imagenette2-160/train/\", class_mode=\"categorical\", shuffle=False, batch_size=128, target_size=(224, 224))"
      ],
      "execution_count": null,
      "outputs": [
        {
          "output_type": "stream",
          "text": [
            "Found 9469 images belonging to 10 classes.\n"
          ],
          "name": "stdout"
        }
      ]
    },
    {
      "cell_type": "code",
      "metadata": {
        "colab": {
          "base_uri": "https://localhost:8080/"
        },
        "id": "Pfig7LwxuA8l",
        "outputId": "c3099fd2-63cf-432c-9b16-edb42feda195"
      },
      "source": [
        "# load val data\n",
        "val = imagegen.flow_from_directory(\"/content/drive/MyDrive/PRML/imagenette2-160/val/\", class_mode=\"categorical\", shuffle=False, batch_size=128, target_size=(224, 224))\n"
      ],
      "execution_count": null,
      "outputs": [
        {
          "output_type": "stream",
          "text": [
            "Found 3925 images belonging to 10 classes.\n"
          ],
          "name": "stdout"
        }
      ]
    },
    {
      "cell_type": "code",
      "metadata": {
        "id": "EI_sBZobXZP1"
      },
      "source": [
        "## Resnet with layer = 18\n",
        "\n",
        "visible = Input(shape=(224, 224, 3))\n",
        "\n",
        "layer = Conv2D(64, (7,7),strides=(2, 2),  padding='same')(visible)\n",
        "layer = BatchNormalization()(layer)\n",
        "layer = layers.Activation(activations.relu)(layer)\n",
        "layer = tf.keras.layers.MaxPooling2D(pool_size=(3, 3), strides=(2, 2), padding=\"same\")(layer)\n",
        "layer = BatchNormalization()(layer)\n",
        "layer = layers.Activation(activations.relu)(layer)\n",
        "\n",
        "\n",
        "layer =  residual_module(layer, 64)\n",
        "layer = residual_module(layer, 64)\n",
        "\n",
        "\n",
        "layer = residual_module(layer, 128, strides=(2,2))\n",
        "layer = residual_module(layer, 128)\n",
        "\n",
        "\n",
        "layer = residual_module(layer, 256, strides=(2,2))\n",
        "layer = residual_module(layer, 256)\n",
        "\n",
        "\n",
        "layer = residual_module(layer, 512, strides=(2,2))\n",
        "layer = residual_module(layer, 512)\n",
        "\n",
        "\n",
        "layer = GlobalAveragePooling2D()(layer)\n",
        "layer = Dense(10, activation='softmax')(layer)\n"
      ],
      "execution_count": null,
      "outputs": []
    },
    {
      "cell_type": "code",
      "metadata": {
        "id": "3fXg9ggC0JkS"
      },
      "source": [
        "# create model\n",
        "model = Model(inputs=visible, outputs=layer)"
      ],
      "execution_count": null,
      "outputs": []
    },
    {
      "cell_type": "code",
      "metadata": {
        "colab": {
          "base_uri": "https://localhost:8080/"
        },
        "id": "TwCoGS-X0OGh",
        "outputId": "95893d3a-af4b-4425-9a1a-8806facc51f3"
      },
      "source": [
        "# summarize model\n",
        "model.summary()"
      ],
      "execution_count": null,
      "outputs": [
        {
          "output_type": "stream",
          "text": [
            "Model: \"model\"\n",
            "__________________________________________________________________________________________________\n",
            "Layer (type)                    Output Shape         Param #     Connected to                     \n",
            "==================================================================================================\n",
            "input_1 (InputLayer)            [(None, 224, 224, 3) 0                                            \n",
            "__________________________________________________________________________________________________\n",
            "conv2d (Conv2D)                 (None, 112, 112, 64) 9472        input_1[0][0]                    \n",
            "__________________________________________________________________________________________________\n",
            "batch_normalization (BatchNorma (None, 112, 112, 64) 256         conv2d[0][0]                     \n",
            "__________________________________________________________________________________________________\n",
            "tf.nn.relu (TFOpLambda)         (None, 112, 112, 64) 0           batch_normalization[0][0]        \n",
            "__________________________________________________________________________________________________\n",
            "tf.compat.v1.nn.max_pool (TFOpL (None, 56, 56, 64)   0           tf.nn.relu[0][0]                 \n",
            "__________________________________________________________________________________________________\n",
            "batch_normalization_1 (BatchNor (None, 56, 56, 64)   256         tf.compat.v1.nn.max_pool[0][0]   \n",
            "__________________________________________________________________________________________________\n",
            "tf.nn.relu_1 (TFOpLambda)       (None, 56, 56, 64)   0           batch_normalization_1[0][0]      \n",
            "__________________________________________________________________________________________________\n",
            "conv2d_1 (Conv2D)               (None, 56, 56, 64)   36928       tf.nn.relu_1[0][0]               \n",
            "__________________________________________________________________________________________________\n",
            "batch_normalization_2 (BatchNor (None, 56, 56, 64)   256         conv2d_1[0][0]                   \n",
            "__________________________________________________________________________________________________\n",
            "activation (Activation)         (None, 56, 56, 64)   0           batch_normalization_2[0][0]      \n",
            "__________________________________________________________________________________________________\n",
            "conv2d_2 (Conv2D)               (None, 56, 56, 64)   36928       activation[0][0]                 \n",
            "__________________________________________________________________________________________________\n",
            "batch_normalization_3 (BatchNor (None, 56, 56, 64)   256         conv2d_2[0][0]                   \n",
            "__________________________________________________________________________________________________\n",
            "add (Add)                       (None, 56, 56, 64)   0           tf.nn.relu_1[0][0]               \n",
            "                                                                 batch_normalization_3[0][0]      \n",
            "__________________________________________________________________________________________________\n",
            "activation_1 (Activation)       (None, 56, 56, 64)   0           add[0][0]                        \n",
            "__________________________________________________________________________________________________\n",
            "conv2d_3 (Conv2D)               (None, 56, 56, 64)   36928       activation_1[0][0]               \n",
            "__________________________________________________________________________________________________\n",
            "batch_normalization_4 (BatchNor (None, 56, 56, 64)   256         conv2d_3[0][0]                   \n",
            "__________________________________________________________________________________________________\n",
            "activation_2 (Activation)       (None, 56, 56, 64)   0           batch_normalization_4[0][0]      \n",
            "__________________________________________________________________________________________________\n",
            "conv2d_4 (Conv2D)               (None, 56, 56, 64)   36928       activation_2[0][0]               \n",
            "__________________________________________________________________________________________________\n",
            "batch_normalization_5 (BatchNor (None, 56, 56, 64)   256         conv2d_4[0][0]                   \n",
            "__________________________________________________________________________________________________\n",
            "add_1 (Add)                     (None, 56, 56, 64)   0           activation_1[0][0]               \n",
            "                                                                 batch_normalization_5[0][0]      \n",
            "__________________________________________________________________________________________________\n",
            "activation_3 (Activation)       (None, 56, 56, 64)   0           add_1[0][0]                      \n",
            "__________________________________________________________________________________________________\n",
            "conv2d_5 (Conv2D)               (None, 28, 28, 128)  73856       activation_3[0][0]               \n",
            "__________________________________________________________________________________________________\n",
            "batch_normalization_6 (BatchNor (None, 28, 28, 128)  512         conv2d_5[0][0]                   \n",
            "__________________________________________________________________________________________________\n",
            "activation_4 (Activation)       (None, 28, 28, 128)  0           batch_normalization_6[0][0]      \n",
            "__________________________________________________________________________________________________\n",
            "conv2d_6 (Conv2D)               (None, 28, 28, 128)  147584      activation_4[0][0]               \n",
            "__________________________________________________________________________________________________\n",
            "batch_normalization_7 (BatchNor (None, 28, 28, 128)  512         conv2d_6[0][0]                   \n",
            "__________________________________________________________________________________________________\n",
            "add_2 (Add)                     (None, 28, 28, 128)  0           conv2d_5[0][0]                   \n",
            "                                                                 batch_normalization_7[0][0]      \n",
            "__________________________________________________________________________________________________\n",
            "activation_5 (Activation)       (None, 28, 28, 128)  0           add_2[0][0]                      \n",
            "__________________________________________________________________________________________________\n",
            "conv2d_7 (Conv2D)               (None, 28, 28, 128)  147584      activation_5[0][0]               \n",
            "__________________________________________________________________________________________________\n",
            "batch_normalization_8 (BatchNor (None, 28, 28, 128)  512         conv2d_7[0][0]                   \n",
            "__________________________________________________________________________________________________\n",
            "activation_6 (Activation)       (None, 28, 28, 128)  0           batch_normalization_8[0][0]      \n",
            "__________________________________________________________________________________________________\n",
            "conv2d_8 (Conv2D)               (None, 28, 28, 128)  147584      activation_6[0][0]               \n",
            "__________________________________________________________________________________________________\n",
            "batch_normalization_9 (BatchNor (None, 28, 28, 128)  512         conv2d_8[0][0]                   \n",
            "__________________________________________________________________________________________________\n",
            "add_3 (Add)                     (None, 28, 28, 128)  0           activation_5[0][0]               \n",
            "                                                                 batch_normalization_9[0][0]      \n",
            "__________________________________________________________________________________________________\n",
            "activation_7 (Activation)       (None, 28, 28, 128)  0           add_3[0][0]                      \n",
            "__________________________________________________________________________________________________\n",
            "conv2d_9 (Conv2D)               (None, 14, 14, 256)  295168      activation_7[0][0]               \n",
            "__________________________________________________________________________________________________\n",
            "batch_normalization_10 (BatchNo (None, 14, 14, 256)  1024        conv2d_9[0][0]                   \n",
            "__________________________________________________________________________________________________\n",
            "activation_8 (Activation)       (None, 14, 14, 256)  0           batch_normalization_10[0][0]     \n",
            "__________________________________________________________________________________________________\n",
            "conv2d_10 (Conv2D)              (None, 14, 14, 256)  590080      activation_8[0][0]               \n",
            "__________________________________________________________________________________________________\n",
            "batch_normalization_11 (BatchNo (None, 14, 14, 256)  1024        conv2d_10[0][0]                  \n",
            "__________________________________________________________________________________________________\n",
            "add_4 (Add)                     (None, 14, 14, 256)  0           conv2d_9[0][0]                   \n",
            "                                                                 batch_normalization_11[0][0]     \n",
            "__________________________________________________________________________________________________\n",
            "activation_9 (Activation)       (None, 14, 14, 256)  0           add_4[0][0]                      \n",
            "__________________________________________________________________________________________________\n",
            "conv2d_11 (Conv2D)              (None, 14, 14, 256)  590080      activation_9[0][0]               \n",
            "__________________________________________________________________________________________________\n",
            "batch_normalization_12 (BatchNo (None, 14, 14, 256)  1024        conv2d_11[0][0]                  \n",
            "__________________________________________________________________________________________________\n",
            "activation_10 (Activation)      (None, 14, 14, 256)  0           batch_normalization_12[0][0]     \n",
            "__________________________________________________________________________________________________\n",
            "conv2d_12 (Conv2D)              (None, 14, 14, 256)  590080      activation_10[0][0]              \n",
            "__________________________________________________________________________________________________\n",
            "batch_normalization_13 (BatchNo (None, 14, 14, 256)  1024        conv2d_12[0][0]                  \n",
            "__________________________________________________________________________________________________\n",
            "add_5 (Add)                     (None, 14, 14, 256)  0           activation_9[0][0]               \n",
            "                                                                 batch_normalization_13[0][0]     \n",
            "__________________________________________________________________________________________________\n",
            "activation_11 (Activation)      (None, 14, 14, 256)  0           add_5[0][0]                      \n",
            "__________________________________________________________________________________________________\n",
            "conv2d_13 (Conv2D)              (None, 7, 7, 512)    1180160     activation_11[0][0]              \n",
            "__________________________________________________________________________________________________\n",
            "batch_normalization_14 (BatchNo (None, 7, 7, 512)    2048        conv2d_13[0][0]                  \n",
            "__________________________________________________________________________________________________\n",
            "activation_12 (Activation)      (None, 7, 7, 512)    0           batch_normalization_14[0][0]     \n",
            "__________________________________________________________________________________________________\n",
            "conv2d_14 (Conv2D)              (None, 7, 7, 512)    2359808     activation_12[0][0]              \n",
            "__________________________________________________________________________________________________\n",
            "batch_normalization_15 (BatchNo (None, 7, 7, 512)    2048        conv2d_14[0][0]                  \n",
            "__________________________________________________________________________________________________\n",
            "add_6 (Add)                     (None, 7, 7, 512)    0           conv2d_13[0][0]                  \n",
            "                                                                 batch_normalization_15[0][0]     \n",
            "__________________________________________________________________________________________________\n",
            "activation_13 (Activation)      (None, 7, 7, 512)    0           add_6[0][0]                      \n",
            "__________________________________________________________________________________________________\n",
            "conv2d_15 (Conv2D)              (None, 7, 7, 512)    2359808     activation_13[0][0]              \n",
            "__________________________________________________________________________________________________\n",
            "batch_normalization_16 (BatchNo (None, 7, 7, 512)    2048        conv2d_15[0][0]                  \n",
            "__________________________________________________________________________________________________\n",
            "activation_14 (Activation)      (None, 7, 7, 512)    0           batch_normalization_16[0][0]     \n",
            "__________________________________________________________________________________________________\n",
            "conv2d_16 (Conv2D)              (None, 7, 7, 512)    2359808     activation_14[0][0]              \n",
            "__________________________________________________________________________________________________\n",
            "batch_normalization_17 (BatchNo (None, 7, 7, 512)    2048        conv2d_16[0][0]                  \n",
            "__________________________________________________________________________________________________\n",
            "add_7 (Add)                     (None, 7, 7, 512)    0           activation_13[0][0]              \n",
            "                                                                 batch_normalization_17[0][0]     \n",
            "__________________________________________________________________________________________________\n",
            "activation_15 (Activation)      (None, 7, 7, 512)    0           add_7[0][0]                      \n",
            "__________________________________________________________________________________________________\n",
            "global_average_pooling2d (Globa (None, 512)          0           activation_15[0][0]              \n",
            "__________________________________________________________________________________________________\n",
            "dense (Dense)                   (None, 10)           5130        global_average_pooling2d[0][0]   \n",
            "==================================================================================================\n",
            "Total params: 11,019,786\n",
            "Trainable params: 11,011,850\n",
            "Non-trainable params: 7,936\n",
            "__________________________________________________________________________________________________\n"
          ],
          "name": "stdout"
        }
      ]
    },
    {
      "cell_type": "code",
      "metadata": {
        "id": "Eb3tGCXlDARP"
      },
      "source": [
        "## Resnet with layer = 34\n",
        "\n",
        "layer_34 = Conv2D(64, (7,7),strides=(2, 2),  padding='same')(visible)\n",
        "layer_34 = BatchNormalization()(layer_34)\n",
        "layer_34 = layers.Activation(activations.relu)(layer_34)\n",
        "layer_34 = tf.keras.layers.MaxPooling2D(pool_size=(3, 3), strides=(2, 2), padding=\"same\")(layer_34)\n",
        "layer_34 = BatchNormalization()(layer_34)\n",
        "layer_34 = layers.Activation(activations.relu)(layer_34)\n",
        "\n",
        "\n",
        "layer_34 =  residual_module(layer_34, 64)\n",
        "layer_34 = residual_module(layer_34, 64)\n",
        "layer_34 = residual_module(layer_34, 64)\n",
        "\n",
        "\n",
        "layer_34 = residual_module(layer_34, 128, strides=(2,2))\n",
        "layer_34 = residual_module(layer_34, 128)\n",
        "layer_34 = residual_module(layer_34, 128)\n",
        "layer_34 = residual_module(layer_34, 128)\n",
        "\n",
        "\n",
        "layer_34 = residual_module(layer_34, 256, strides=(2,2))\n",
        "layer_34 = residual_module(layer_34, 256)\n",
        "layer_34 = residual_module(layer_34, 256)\n",
        "layer_34 = residual_module(layer_34, 256)\n",
        "layer_34 = residual_module(layer_34, 256)\n",
        "layer_34 = residual_module(layer_34, 256)\n",
        "\n",
        "\n",
        "layer_34 = residual_module(layer_34, 512, strides=(2,2))\n",
        "layer_34 = residual_module(layer_34, 512)\n",
        "layer_34 = residual_module(layer_34, 512)\n",
        "\n",
        "\n",
        "\n",
        "layer_34 = GlobalAveragePooling2D()(layer_34)\n",
        "layer_34 = Dense(10, activation='softmax')(layer_34)"
      ],
      "execution_count": null,
      "outputs": []
    },
    {
      "cell_type": "code",
      "metadata": {
        "id": "_DNQAtFdE2OS"
      },
      "source": [
        "# create model\n",
        "model_2 = Model(inputs=visible, outputs=layer_34)"
      ],
      "execution_count": null,
      "outputs": []
    },
    {
      "cell_type": "code",
      "metadata": {
        "colab": {
          "base_uri": "https://localhost:8080/"
        },
        "id": "GYh6F4c9E6AM",
        "outputId": "102ada99-0e4e-43e2-8b5c-600d4bed6611"
      },
      "source": [
        "# summarize model\n",
        "model_2.summary()"
      ],
      "execution_count": null,
      "outputs": [
        {
          "output_type": "stream",
          "text": [
            "Model: \"model_1\"\n",
            "__________________________________________________________________________________________________\n",
            "Layer (type)                    Output Shape         Param #     Connected to                     \n",
            "==================================================================================================\n",
            "input_1 (InputLayer)            [(None, 224, 224, 3) 0                                            \n",
            "__________________________________________________________________________________________________\n",
            "conv2d_17 (Conv2D)              (None, 112, 112, 64) 9472        input_1[0][0]                    \n",
            "__________________________________________________________________________________________________\n",
            "batch_normalization_18 (BatchNo (None, 112, 112, 64) 256         conv2d_17[0][0]                  \n",
            "__________________________________________________________________________________________________\n",
            "tf.nn.relu_2 (TFOpLambda)       (None, 112, 112, 64) 0           batch_normalization_18[0][0]     \n",
            "__________________________________________________________________________________________________\n",
            "tf.compat.v1.nn.max_pool_1 (TFO (None, 56, 56, 64)   0           tf.nn.relu_2[0][0]               \n",
            "__________________________________________________________________________________________________\n",
            "batch_normalization_19 (BatchNo (None, 56, 56, 64)   256         tf.compat.v1.nn.max_pool_1[0][0] \n",
            "__________________________________________________________________________________________________\n",
            "tf.nn.relu_3 (TFOpLambda)       (None, 56, 56, 64)   0           batch_normalization_19[0][0]     \n",
            "__________________________________________________________________________________________________\n",
            "conv2d_18 (Conv2D)              (None, 56, 56, 64)   36928       tf.nn.relu_3[0][0]               \n",
            "__________________________________________________________________________________________________\n",
            "batch_normalization_20 (BatchNo (None, 56, 56, 64)   256         conv2d_18[0][0]                  \n",
            "__________________________________________________________________________________________________\n",
            "activation_16 (Activation)      (None, 56, 56, 64)   0           batch_normalization_20[0][0]     \n",
            "__________________________________________________________________________________________________\n",
            "conv2d_19 (Conv2D)              (None, 56, 56, 64)   36928       activation_16[0][0]              \n",
            "__________________________________________________________________________________________________\n",
            "batch_normalization_21 (BatchNo (None, 56, 56, 64)   256         conv2d_19[0][0]                  \n",
            "__________________________________________________________________________________________________\n",
            "add_8 (Add)                     (None, 56, 56, 64)   0           tf.nn.relu_3[0][0]               \n",
            "                                                                 batch_normalization_21[0][0]     \n",
            "__________________________________________________________________________________________________\n",
            "activation_17 (Activation)      (None, 56, 56, 64)   0           add_8[0][0]                      \n",
            "__________________________________________________________________________________________________\n",
            "conv2d_20 (Conv2D)              (None, 56, 56, 64)   36928       activation_17[0][0]              \n",
            "__________________________________________________________________________________________________\n",
            "batch_normalization_22 (BatchNo (None, 56, 56, 64)   256         conv2d_20[0][0]                  \n",
            "__________________________________________________________________________________________________\n",
            "activation_18 (Activation)      (None, 56, 56, 64)   0           batch_normalization_22[0][0]     \n",
            "__________________________________________________________________________________________________\n",
            "conv2d_21 (Conv2D)              (None, 56, 56, 64)   36928       activation_18[0][0]              \n",
            "__________________________________________________________________________________________________\n",
            "batch_normalization_23 (BatchNo (None, 56, 56, 64)   256         conv2d_21[0][0]                  \n",
            "__________________________________________________________________________________________________\n",
            "add_9 (Add)                     (None, 56, 56, 64)   0           activation_17[0][0]              \n",
            "                                                                 batch_normalization_23[0][0]     \n",
            "__________________________________________________________________________________________________\n",
            "activation_19 (Activation)      (None, 56, 56, 64)   0           add_9[0][0]                      \n",
            "__________________________________________________________________________________________________\n",
            "conv2d_22 (Conv2D)              (None, 56, 56, 64)   36928       activation_19[0][0]              \n",
            "__________________________________________________________________________________________________\n",
            "batch_normalization_24 (BatchNo (None, 56, 56, 64)   256         conv2d_22[0][0]                  \n",
            "__________________________________________________________________________________________________\n",
            "activation_20 (Activation)      (None, 56, 56, 64)   0           batch_normalization_24[0][0]     \n",
            "__________________________________________________________________________________________________\n",
            "conv2d_23 (Conv2D)              (None, 56, 56, 64)   36928       activation_20[0][0]              \n",
            "__________________________________________________________________________________________________\n",
            "batch_normalization_25 (BatchNo (None, 56, 56, 64)   256         conv2d_23[0][0]                  \n",
            "__________________________________________________________________________________________________\n",
            "add_10 (Add)                    (None, 56, 56, 64)   0           activation_19[0][0]              \n",
            "                                                                 batch_normalization_25[0][0]     \n",
            "__________________________________________________________________________________________________\n",
            "activation_21 (Activation)      (None, 56, 56, 64)   0           add_10[0][0]                     \n",
            "__________________________________________________________________________________________________\n",
            "conv2d_24 (Conv2D)              (None, 28, 28, 128)  73856       activation_21[0][0]              \n",
            "__________________________________________________________________________________________________\n",
            "batch_normalization_26 (BatchNo (None, 28, 28, 128)  512         conv2d_24[0][0]                  \n",
            "__________________________________________________________________________________________________\n",
            "activation_22 (Activation)      (None, 28, 28, 128)  0           batch_normalization_26[0][0]     \n",
            "__________________________________________________________________________________________________\n",
            "conv2d_25 (Conv2D)              (None, 28, 28, 128)  147584      activation_22[0][0]              \n",
            "__________________________________________________________________________________________________\n",
            "batch_normalization_27 (BatchNo (None, 28, 28, 128)  512         conv2d_25[0][0]                  \n",
            "__________________________________________________________________________________________________\n",
            "add_11 (Add)                    (None, 28, 28, 128)  0           conv2d_24[0][0]                  \n",
            "                                                                 batch_normalization_27[0][0]     \n",
            "__________________________________________________________________________________________________\n",
            "activation_23 (Activation)      (None, 28, 28, 128)  0           add_11[0][0]                     \n",
            "__________________________________________________________________________________________________\n",
            "conv2d_26 (Conv2D)              (None, 28, 28, 128)  147584      activation_23[0][0]              \n",
            "__________________________________________________________________________________________________\n",
            "batch_normalization_28 (BatchNo (None, 28, 28, 128)  512         conv2d_26[0][0]                  \n",
            "__________________________________________________________________________________________________\n",
            "activation_24 (Activation)      (None, 28, 28, 128)  0           batch_normalization_28[0][0]     \n",
            "__________________________________________________________________________________________________\n",
            "conv2d_27 (Conv2D)              (None, 28, 28, 128)  147584      activation_24[0][0]              \n",
            "__________________________________________________________________________________________________\n",
            "batch_normalization_29 (BatchNo (None, 28, 28, 128)  512         conv2d_27[0][0]                  \n",
            "__________________________________________________________________________________________________\n",
            "add_12 (Add)                    (None, 28, 28, 128)  0           activation_23[0][0]              \n",
            "                                                                 batch_normalization_29[0][0]     \n",
            "__________________________________________________________________________________________________\n",
            "activation_25 (Activation)      (None, 28, 28, 128)  0           add_12[0][0]                     \n",
            "__________________________________________________________________________________________________\n",
            "conv2d_28 (Conv2D)              (None, 28, 28, 128)  147584      activation_25[0][0]              \n",
            "__________________________________________________________________________________________________\n",
            "batch_normalization_30 (BatchNo (None, 28, 28, 128)  512         conv2d_28[0][0]                  \n",
            "__________________________________________________________________________________________________\n",
            "activation_26 (Activation)      (None, 28, 28, 128)  0           batch_normalization_30[0][0]     \n",
            "__________________________________________________________________________________________________\n",
            "conv2d_29 (Conv2D)              (None, 28, 28, 128)  147584      activation_26[0][0]              \n",
            "__________________________________________________________________________________________________\n",
            "batch_normalization_31 (BatchNo (None, 28, 28, 128)  512         conv2d_29[0][0]                  \n",
            "__________________________________________________________________________________________________\n",
            "add_13 (Add)                    (None, 28, 28, 128)  0           activation_25[0][0]              \n",
            "                                                                 batch_normalization_31[0][0]     \n",
            "__________________________________________________________________________________________________\n",
            "activation_27 (Activation)      (None, 28, 28, 128)  0           add_13[0][0]                     \n",
            "__________________________________________________________________________________________________\n",
            "conv2d_30 (Conv2D)              (None, 28, 28, 128)  147584      activation_27[0][0]              \n",
            "__________________________________________________________________________________________________\n",
            "batch_normalization_32 (BatchNo (None, 28, 28, 128)  512         conv2d_30[0][0]                  \n",
            "__________________________________________________________________________________________________\n",
            "activation_28 (Activation)      (None, 28, 28, 128)  0           batch_normalization_32[0][0]     \n",
            "__________________________________________________________________________________________________\n",
            "conv2d_31 (Conv2D)              (None, 28, 28, 128)  147584      activation_28[0][0]              \n",
            "__________________________________________________________________________________________________\n",
            "batch_normalization_33 (BatchNo (None, 28, 28, 128)  512         conv2d_31[0][0]                  \n",
            "__________________________________________________________________________________________________\n",
            "add_14 (Add)                    (None, 28, 28, 128)  0           activation_27[0][0]              \n",
            "                                                                 batch_normalization_33[0][0]     \n",
            "__________________________________________________________________________________________________\n",
            "activation_29 (Activation)      (None, 28, 28, 128)  0           add_14[0][0]                     \n",
            "__________________________________________________________________________________________________\n",
            "conv2d_32 (Conv2D)              (None, 14, 14, 256)  295168      activation_29[0][0]              \n",
            "__________________________________________________________________________________________________\n",
            "batch_normalization_34 (BatchNo (None, 14, 14, 256)  1024        conv2d_32[0][0]                  \n",
            "__________________________________________________________________________________________________\n",
            "activation_30 (Activation)      (None, 14, 14, 256)  0           batch_normalization_34[0][0]     \n",
            "__________________________________________________________________________________________________\n",
            "conv2d_33 (Conv2D)              (None, 14, 14, 256)  590080      activation_30[0][0]              \n",
            "__________________________________________________________________________________________________\n",
            "batch_normalization_35 (BatchNo (None, 14, 14, 256)  1024        conv2d_33[0][0]                  \n",
            "__________________________________________________________________________________________________\n",
            "add_15 (Add)                    (None, 14, 14, 256)  0           conv2d_32[0][0]                  \n",
            "                                                                 batch_normalization_35[0][0]     \n",
            "__________________________________________________________________________________________________\n",
            "activation_31 (Activation)      (None, 14, 14, 256)  0           add_15[0][0]                     \n",
            "__________________________________________________________________________________________________\n",
            "conv2d_34 (Conv2D)              (None, 14, 14, 256)  590080      activation_31[0][0]              \n",
            "__________________________________________________________________________________________________\n",
            "batch_normalization_36 (BatchNo (None, 14, 14, 256)  1024        conv2d_34[0][0]                  \n",
            "__________________________________________________________________________________________________\n",
            "activation_32 (Activation)      (None, 14, 14, 256)  0           batch_normalization_36[0][0]     \n",
            "__________________________________________________________________________________________________\n",
            "conv2d_35 (Conv2D)              (None, 14, 14, 256)  590080      activation_32[0][0]              \n",
            "__________________________________________________________________________________________________\n",
            "batch_normalization_37 (BatchNo (None, 14, 14, 256)  1024        conv2d_35[0][0]                  \n",
            "__________________________________________________________________________________________________\n",
            "add_16 (Add)                    (None, 14, 14, 256)  0           activation_31[0][0]              \n",
            "                                                                 batch_normalization_37[0][0]     \n",
            "__________________________________________________________________________________________________\n",
            "activation_33 (Activation)      (None, 14, 14, 256)  0           add_16[0][0]                     \n",
            "__________________________________________________________________________________________________\n",
            "conv2d_36 (Conv2D)              (None, 14, 14, 256)  590080      activation_33[0][0]              \n",
            "__________________________________________________________________________________________________\n",
            "batch_normalization_38 (BatchNo (None, 14, 14, 256)  1024        conv2d_36[0][0]                  \n",
            "__________________________________________________________________________________________________\n",
            "activation_34 (Activation)      (None, 14, 14, 256)  0           batch_normalization_38[0][0]     \n",
            "__________________________________________________________________________________________________\n",
            "conv2d_37 (Conv2D)              (None, 14, 14, 256)  590080      activation_34[0][0]              \n",
            "__________________________________________________________________________________________________\n",
            "batch_normalization_39 (BatchNo (None, 14, 14, 256)  1024        conv2d_37[0][0]                  \n",
            "__________________________________________________________________________________________________\n",
            "add_17 (Add)                    (None, 14, 14, 256)  0           activation_33[0][0]              \n",
            "                                                                 batch_normalization_39[0][0]     \n",
            "__________________________________________________________________________________________________\n",
            "activation_35 (Activation)      (None, 14, 14, 256)  0           add_17[0][0]                     \n",
            "__________________________________________________________________________________________________\n",
            "conv2d_38 (Conv2D)              (None, 14, 14, 256)  590080      activation_35[0][0]              \n",
            "__________________________________________________________________________________________________\n",
            "batch_normalization_40 (BatchNo (None, 14, 14, 256)  1024        conv2d_38[0][0]                  \n",
            "__________________________________________________________________________________________________\n",
            "activation_36 (Activation)      (None, 14, 14, 256)  0           batch_normalization_40[0][0]     \n",
            "__________________________________________________________________________________________________\n",
            "conv2d_39 (Conv2D)              (None, 14, 14, 256)  590080      activation_36[0][0]              \n",
            "__________________________________________________________________________________________________\n",
            "batch_normalization_41 (BatchNo (None, 14, 14, 256)  1024        conv2d_39[0][0]                  \n",
            "__________________________________________________________________________________________________\n",
            "add_18 (Add)                    (None, 14, 14, 256)  0           activation_35[0][0]              \n",
            "                                                                 batch_normalization_41[0][0]     \n",
            "__________________________________________________________________________________________________\n",
            "activation_37 (Activation)      (None, 14, 14, 256)  0           add_18[0][0]                     \n",
            "__________________________________________________________________________________________________\n",
            "conv2d_40 (Conv2D)              (None, 14, 14, 256)  590080      activation_37[0][0]              \n",
            "__________________________________________________________________________________________________\n",
            "batch_normalization_42 (BatchNo (None, 14, 14, 256)  1024        conv2d_40[0][0]                  \n",
            "__________________________________________________________________________________________________\n",
            "activation_38 (Activation)      (None, 14, 14, 256)  0           batch_normalization_42[0][0]     \n",
            "__________________________________________________________________________________________________\n",
            "conv2d_41 (Conv2D)              (None, 14, 14, 256)  590080      activation_38[0][0]              \n",
            "__________________________________________________________________________________________________\n",
            "batch_normalization_43 (BatchNo (None, 14, 14, 256)  1024        conv2d_41[0][0]                  \n",
            "__________________________________________________________________________________________________\n",
            "add_19 (Add)                    (None, 14, 14, 256)  0           activation_37[0][0]              \n",
            "                                                                 batch_normalization_43[0][0]     \n",
            "__________________________________________________________________________________________________\n",
            "activation_39 (Activation)      (None, 14, 14, 256)  0           add_19[0][0]                     \n",
            "__________________________________________________________________________________________________\n",
            "conv2d_42 (Conv2D)              (None, 14, 14, 256)  590080      activation_39[0][0]              \n",
            "__________________________________________________________________________________________________\n",
            "batch_normalization_44 (BatchNo (None, 14, 14, 256)  1024        conv2d_42[0][0]                  \n",
            "__________________________________________________________________________________________________\n",
            "activation_40 (Activation)      (None, 14, 14, 256)  0           batch_normalization_44[0][0]     \n",
            "__________________________________________________________________________________________________\n",
            "conv2d_43 (Conv2D)              (None, 14, 14, 256)  590080      activation_40[0][0]              \n",
            "__________________________________________________________________________________________________\n",
            "batch_normalization_45 (BatchNo (None, 14, 14, 256)  1024        conv2d_43[0][0]                  \n",
            "__________________________________________________________________________________________________\n",
            "add_20 (Add)                    (None, 14, 14, 256)  0           activation_39[0][0]              \n",
            "                                                                 batch_normalization_45[0][0]     \n",
            "__________________________________________________________________________________________________\n",
            "activation_41 (Activation)      (None, 14, 14, 256)  0           add_20[0][0]                     \n",
            "__________________________________________________________________________________________________\n",
            "conv2d_44 (Conv2D)              (None, 7, 7, 512)    1180160     activation_41[0][0]              \n",
            "__________________________________________________________________________________________________\n",
            "batch_normalization_46 (BatchNo (None, 7, 7, 512)    2048        conv2d_44[0][0]                  \n",
            "__________________________________________________________________________________________________\n",
            "activation_42 (Activation)      (None, 7, 7, 512)    0           batch_normalization_46[0][0]     \n",
            "__________________________________________________________________________________________________\n",
            "conv2d_45 (Conv2D)              (None, 7, 7, 512)    2359808     activation_42[0][0]              \n",
            "__________________________________________________________________________________________________\n",
            "batch_normalization_47 (BatchNo (None, 7, 7, 512)    2048        conv2d_45[0][0]                  \n",
            "__________________________________________________________________________________________________\n",
            "add_21 (Add)                    (None, 7, 7, 512)    0           conv2d_44[0][0]                  \n",
            "                                                                 batch_normalization_47[0][0]     \n",
            "__________________________________________________________________________________________________\n",
            "activation_43 (Activation)      (None, 7, 7, 512)    0           add_21[0][0]                     \n",
            "__________________________________________________________________________________________________\n",
            "conv2d_46 (Conv2D)              (None, 7, 7, 512)    2359808     activation_43[0][0]              \n",
            "__________________________________________________________________________________________________\n",
            "batch_normalization_48 (BatchNo (None, 7, 7, 512)    2048        conv2d_46[0][0]                  \n",
            "__________________________________________________________________________________________________\n",
            "activation_44 (Activation)      (None, 7, 7, 512)    0           batch_normalization_48[0][0]     \n",
            "__________________________________________________________________________________________________\n",
            "conv2d_47 (Conv2D)              (None, 7, 7, 512)    2359808     activation_44[0][0]              \n",
            "__________________________________________________________________________________________________\n",
            "batch_normalization_49 (BatchNo (None, 7, 7, 512)    2048        conv2d_47[0][0]                  \n",
            "__________________________________________________________________________________________________\n",
            "add_22 (Add)                    (None, 7, 7, 512)    0           activation_43[0][0]              \n",
            "                                                                 batch_normalization_49[0][0]     \n",
            "__________________________________________________________________________________________________\n",
            "activation_45 (Activation)      (None, 7, 7, 512)    0           add_22[0][0]                     \n",
            "__________________________________________________________________________________________________\n",
            "conv2d_48 (Conv2D)              (None, 7, 7, 512)    2359808     activation_45[0][0]              \n",
            "__________________________________________________________________________________________________\n",
            "batch_normalization_50 (BatchNo (None, 7, 7, 512)    2048        conv2d_48[0][0]                  \n",
            "__________________________________________________________________________________________________\n",
            "activation_46 (Activation)      (None, 7, 7, 512)    0           batch_normalization_50[0][0]     \n",
            "__________________________________________________________________________________________________\n",
            "conv2d_49 (Conv2D)              (None, 7, 7, 512)    2359808     activation_46[0][0]              \n",
            "__________________________________________________________________________________________________\n",
            "batch_normalization_51 (BatchNo (None, 7, 7, 512)    2048        conv2d_49[0][0]                  \n",
            "__________________________________________________________________________________________________\n",
            "add_23 (Add)                    (None, 7, 7, 512)    0           activation_45[0][0]              \n",
            "                                                                 batch_normalization_51[0][0]     \n",
            "__________________________________________________________________________________________________\n",
            "activation_47 (Activation)      (None, 7, 7, 512)    0           add_23[0][0]                     \n",
            "__________________________________________________________________________________________________\n",
            "global_average_pooling2d_1 (Glo (None, 512)          0           activation_47[0][0]              \n",
            "__________________________________________________________________________________________________\n",
            "dense_1 (Dense)                 (None, 10)           5130        global_average_pooling2d_1[0][0] \n",
            "==================================================================================================\n",
            "Total params: 21,139,082\n",
            "Trainable params: 21,123,722\n",
            "Non-trainable params: 15,360\n",
            "__________________________________________________________________________________________________\n"
          ],
          "name": "stdout"
        }
      ]
    },
    {
      "cell_type": "code",
      "metadata": {
        "id": "FjgJYLQjFhYr"
      },
      "source": [
        "opt = SGD(learning_rate=0.1, momentum=0.9)"
      ],
      "execution_count": null,
      "outputs": []
    },
    {
      "cell_type": "code",
      "metadata": {
        "id": "O0bEuf-z_tvr"
      },
      "source": [
        "model.compile(loss='mse', optimizer=opt, metrics=['accuracy'])"
      ],
      "execution_count": null,
      "outputs": []
    },
    {
      "cell_type": "code",
      "metadata": {
        "id": "bDO91NGfCQAb"
      },
      "source": [
        "#trainX = model.predict(train)\n",
        "#testX = model.predict(val)"
      ],
      "execution_count": null,
      "outputs": []
    },
    {
      "cell_type": "code",
      "metadata": {
        "id": "iiguoEboChYy"
      },
      "source": [
        "#trainY = to_categorical(train.labels)\n",
        "#testY = to_categorical(val.labels)"
      ],
      "execution_count": null,
      "outputs": []
    },
    {
      "cell_type": "code",
      "metadata": {
        "id": "b2JC9XK4CyLb"
      },
      "source": [
        "epoch =80"
      ],
      "execution_count": null,
      "outputs": []
    },
    {
      "cell_type": "code",
      "metadata": {
        "id": "bijZ06yi2s-J"
      },
      "source": [
        " #history = model.fit_generator(train, epochs=epoch, validation_data=val)"
      ],
      "execution_count": null,
      "outputs": []
    },
    {
      "cell_type": "code",
      "metadata": {
        "id": "DS35DQ50Cqqz"
      },
      "source": [
        "#history = model.fit(trainX, trainY, epochs=epoch, batch_size=128, validation_data=(testX, testY), verbose=1)\n",
        "#history = model.fit_generator(train, epochs=epoch, validation_data=val)\n"
      ],
      "execution_count": null,
      "outputs": []
    },
    {
      "cell_type": "code",
      "metadata": {
        "id": "UOMVaayvGrDL"
      },
      "source": [
        "import numpy as np\n",
        "#loss_history = (1-np.array(history.history['accuracy']))*100\n",
        "#loss_history_test = (1-np.array(history.history['val_accuracy']))*100\n",
        "#numpy_loss_history = np.array(loss_history)\n",
        "#numpy_loss_history_test = np.array(loss_history_test)\n",
        "#np.savetxt(\"/content/drive/MyDrive/PRML/loss_history_imagenet1.csv\", numpy_loss_history)\n",
        "#np.savetxt(\"/content/drive/MyDrive/PRML/loss_history_imagenet2.csv\", numpy_loss_history_test)"
      ],
      "execution_count": null,
      "outputs": []
    },
    {
      "cell_type": "code",
      "metadata": {
        "id": "tK0zyoFjDbST"
      },
      "source": [
        "#pyplot.plot((1-np.array(history.history['accuracy']))*100,'g-', label='train 18-layer')\n",
        "#pyplot.plot((1-np.array(history.history['val_accuracy']))*100,'g--', label='test 18-layer')\n",
        "#pyplot.xlabel('Epoch',fontsize=12)\n",
        "#pyplot.ylabel('Error(%)',fontsize=12)\n",
        "#pyplot.legend()\n",
        "#pyplot.grid(color='y')\n",
        "#pyplot.figure(1,dpi=120)\n",
        "#pyplot.show()"
      ],
      "execution_count": null,
      "outputs": []
    },
    {
      "cell_type": "code",
      "metadata": {
        "id": "VeWzFHXeDzBy"
      },
      "source": [
        "model_2.compile(loss='mse', optimizer=opt, metrics=['accuracy'])"
      ],
      "execution_count": null,
      "outputs": []
    },
    {
      "cell_type": "code",
      "metadata": {
        "id": "WGNAUnvnD8ci"
      },
      "source": [
        "#trainX_2 = model_2.predict(train)\n",
        "#testX_2 = model_2.predict(val)"
      ],
      "execution_count": null,
      "outputs": []
    },
    {
      "cell_type": "code",
      "metadata": {
        "id": "OaKQcGpyEArp"
      },
      "source": [
        "#trainY_2 = to_categorical(train.labels)\n",
        "#testY_2 = to_categorical(val.labels)"
      ],
      "execution_count": null,
      "outputs": []
    },
    {
      "cell_type": "code",
      "metadata": {
        "id": "J2L1BuZiEIlS",
        "colab": {
          "base_uri": "https://localhost:8080/"
        },
        "outputId": "44cee011-aff0-44b2-b3d8-86b836d19d29"
      },
      "source": [
        "history_2 = model_2.fit_generator(train, epochs=epoch, validation_data=val)\n"
      ],
      "execution_count": null,
      "outputs": [
        {
          "output_type": "stream",
          "text": [
            "/usr/local/lib/python3.7/dist-packages/keras/engine/training.py:1915: UserWarning: `Model.fit_generator` is deprecated and will be removed in a future version. Please use `Model.fit`, which supports generators.\n",
            "  warnings.warn('`Model.fit_generator` is deprecated and '\n"
          ],
          "name": "stderr"
        },
        {
          "output_type": "stream",
          "text": [
            "Epoch 1/80\n",
            "74/74 [==============================] - 4693s 63s/step - loss: 0.1762 - accuracy: 0.0978 - val_loss: 0.1818 - val_accuracy: 0.0910\n",
            "Epoch 2/80\n",
            "74/74 [==============================] - 55s 735ms/step - loss: 0.1747 - accuracy: 0.1264 - val_loss: 0.1818 - val_accuracy: 0.0910\n",
            "Epoch 3/80\n",
            "74/74 [==============================] - 55s 748ms/step - loss: 0.1865 - accuracy: 0.0677 - val_loss: 0.1818 - val_accuracy: 0.0910\n",
            "Epoch 4/80\n",
            "74/74 [==============================] - 57s 763ms/step - loss: 0.1911 - accuracy: 0.0446 - val_loss: 0.1818 - val_accuracy: 0.0910\n",
            "Epoch 5/80\n",
            "74/74 [==============================] - 57s 775ms/step - loss: 0.1797 - accuracy: 0.1014 - val_loss: 0.1818 - val_accuracy: 0.0910\n",
            "Epoch 6/80\n",
            "74/74 [==============================] - 58s 781ms/step - loss: 0.1645 - accuracy: 0.1775 - val_loss: 0.1818 - val_accuracy: 0.0910\n",
            "Epoch 7/80\n",
            "74/74 [==============================] - 58s 779ms/step - loss: 0.1840 - accuracy: 0.0802 - val_loss: 0.1818 - val_accuracy: 0.0910\n",
            "Epoch 8/80\n",
            "74/74 [==============================] - 58s 784ms/step - loss: 0.1858 - accuracy: 0.0710 - val_loss: 0.1818 - val_accuracy: 0.0910\n",
            "Epoch 9/80\n",
            "74/74 [==============================] - 58s 786ms/step - loss: 0.1664 - accuracy: 0.1682 - val_loss: 0.1818 - val_accuracy: 0.0910\n",
            "Epoch 10/80\n",
            "74/74 [==============================] - 58s 787ms/step - loss: 0.1800 - accuracy: 0.1000 - val_loss: 0.1818 - val_accuracy: 0.0910\n",
            "Epoch 11/80\n",
            "74/74 [==============================] - 58s 787ms/step - loss: 0.1875 - accuracy: 0.0625 - val_loss: 0.1818 - val_accuracy: 0.0910\n",
            "Epoch 12/80\n",
            "74/74 [==============================] - 58s 787ms/step - loss: 0.1903 - accuracy: 0.0485 - val_loss: 0.1818 - val_accuracy: 0.0910\n",
            "Epoch 13/80\n",
            "74/74 [==============================] - 58s 786ms/step - loss: 0.1768 - accuracy: 0.1158 - val_loss: 0.1818 - val_accuracy: 0.0910\n",
            "Epoch 14/80\n",
            "74/74 [==============================] - 59s 790ms/step - loss: 0.1849 - accuracy: 0.0753 - val_loss: 0.1818 - val_accuracy: 0.0910\n",
            "Epoch 15/80\n",
            "74/74 [==============================] - 58s 788ms/step - loss: 0.1809 - accuracy: 0.0957 - val_loss: 0.1818 - val_accuracy: 0.0910\n",
            "Epoch 16/80\n",
            "74/74 [==============================] - 58s 789ms/step - loss: 0.1821 - accuracy: 0.0893 - val_loss: 0.1818 - val_accuracy: 0.0910\n",
            "Epoch 17/80\n",
            "74/74 [==============================] - 58s 788ms/step - loss: 0.1764 - accuracy: 0.1179 - val_loss: 0.1818 - val_accuracy: 0.0910\n",
            "Epoch 18/80\n",
            "74/74 [==============================] - 59s 790ms/step - loss: 0.1738 - accuracy: 0.1309 - val_loss: 0.1818 - val_accuracy: 0.0910\n",
            "Epoch 19/80\n",
            "74/74 [==============================] - 59s 790ms/step - loss: 0.1779 - accuracy: 0.1107 - val_loss: 0.1818 - val_accuracy: 0.0910\n",
            "Epoch 20/80\n",
            "74/74 [==============================] - 58s 789ms/step - loss: 0.1791 - accuracy: 0.1045 - val_loss: 0.1818 - val_accuracy: 0.0910\n",
            "Epoch 21/80\n",
            "74/74 [==============================] - 59s 790ms/step - loss: 0.1664 - accuracy: 0.1678 - val_loss: 0.1818 - val_accuracy: 0.0910\n",
            "Epoch 22/80\n",
            "74/74 [==============================] - 59s 791ms/step - loss: 0.1834 - accuracy: 0.0831 - val_loss: 0.1818 - val_accuracy: 0.0910\n",
            "Epoch 23/80\n",
            "74/74 [==============================] - 59s 790ms/step - loss: 0.1823 - accuracy: 0.0883 - val_loss: 0.1818 - val_accuracy: 0.0910\n",
            "Epoch 24/80\n",
            "74/74 [==============================] - 59s 790ms/step - loss: 0.1798 - accuracy: 0.1012 - val_loss: 0.1818 - val_accuracy: 0.0910\n",
            "Epoch 25/80\n",
            "74/74 [==============================] - 58s 789ms/step - loss: 0.1790 - accuracy: 0.1051 - val_loss: 0.1818 - val_accuracy: 0.0910\n",
            "Epoch 26/80\n",
            "74/74 [==============================] - 59s 790ms/step - loss: 0.1792 - accuracy: 0.1042 - val_loss: 0.1818 - val_accuracy: 0.0910\n",
            "Epoch 27/80\n",
            "74/74 [==============================] - 59s 790ms/step - loss: 0.1822 - accuracy: 0.0891 - val_loss: 0.1818 - val_accuracy: 0.0910\n",
            "Epoch 28/80\n",
            "74/74 [==============================] - 59s 789ms/step - loss: 0.1829 - accuracy: 0.0854 - val_loss: 0.1818 - val_accuracy: 0.0910\n",
            "Epoch 29/80\n",
            "74/74 [==============================] - 58s 789ms/step - loss: 0.1756 - accuracy: 0.1220 - val_loss: 0.1818 - val_accuracy: 0.0910\n",
            "Epoch 30/80\n",
            "74/74 [==============================] - 59s 789ms/step - loss: 0.1743 - accuracy: 0.1283 - val_loss: 0.1818 - val_accuracy: 0.0910\n",
            "Epoch 31/80\n",
            "74/74 [==============================] - 58s 789ms/step - loss: 0.1814 - accuracy: 0.0932 - val_loss: 0.1818 - val_accuracy: 0.0910\n",
            "Epoch 32/80\n",
            "74/74 [==============================] - 59s 790ms/step - loss: 0.1832 - accuracy: 0.0838 - val_loss: 0.1818 - val_accuracy: 0.0910\n",
            "Epoch 33/80\n",
            "74/74 [==============================] - 59s 789ms/step - loss: 0.1723 - accuracy: 0.1383 - val_loss: 0.1818 - val_accuracy: 0.0910\n",
            "Epoch 34/80\n",
            "74/74 [==============================] - 58s 789ms/step - loss: 0.1761 - accuracy: 0.1195 - val_loss: 0.1818 - val_accuracy: 0.0910\n",
            "Epoch 35/80\n",
            "74/74 [==============================] - 58s 787ms/step - loss: 0.1851 - accuracy: 0.0744 - val_loss: 0.1818 - val_accuracy: 0.0910\n",
            "Epoch 36/80\n",
            "74/74 [==============================] - 58s 789ms/step - loss: 0.1789 - accuracy: 0.1056 - val_loss: 0.1818 - val_accuracy: 0.0910\n",
            "Epoch 37/80\n",
            "74/74 [==============================] - 58s 786ms/step - loss: 0.1871 - accuracy: 0.0643 - val_loss: 0.1818 - val_accuracy: 0.0910\n",
            "Epoch 38/80\n",
            "74/74 [==============================] - 58s 788ms/step - loss: 0.1783 - accuracy: 0.1084 - val_loss: 0.1818 - val_accuracy: 0.0910\n",
            "Epoch 39/80\n",
            "74/74 [==============================] - 58s 787ms/step - loss: 0.1724 - accuracy: 0.1379 - val_loss: 0.1818 - val_accuracy: 0.0910\n",
            "Epoch 40/80\n",
            "74/74 [==============================] - 58s 789ms/step - loss: 0.1848 - accuracy: 0.0761 - val_loss: 0.1818 - val_accuracy: 0.0910\n",
            "Epoch 41/80\n",
            "74/74 [==============================] - 58s 788ms/step - loss: 0.1777 - accuracy: 0.1113 - val_loss: 0.1818 - val_accuracy: 0.0910\n",
            "Epoch 42/80\n",
            "74/74 [==============================] - 59s 789ms/step - loss: 0.1761 - accuracy: 0.1193 - val_loss: 0.1818 - val_accuracy: 0.0910\n",
            "Epoch 43/80\n",
            "74/74 [==============================] - 58s 788ms/step - loss: 0.1721 - accuracy: 0.1393 - val_loss: 0.1818 - val_accuracy: 0.0910\n",
            "Epoch 44/80\n",
            "74/74 [==============================] - 58s 788ms/step - loss: 0.1921 - accuracy: 0.0397 - val_loss: 0.1818 - val_accuracy: 0.0910\n",
            "Epoch 45/80\n",
            "74/74 [==============================] - 59s 793ms/step - loss: 0.1865 - accuracy: 0.0674 - val_loss: 0.1818 - val_accuracy: 0.0910\n",
            "Epoch 46/80\n",
            "74/74 [==============================] - 58s 788ms/step - loss: 0.1910 - accuracy: 0.0451 - val_loss: 0.1818 - val_accuracy: 0.0910\n",
            "Epoch 47/80\n",
            "74/74 [==============================] - 58s 787ms/step - loss: 0.1927 - accuracy: 0.0365 - val_loss: 0.1818 - val_accuracy: 0.0910\n",
            "Epoch 48/80\n",
            "74/74 [==============================] - 59s 790ms/step - loss: 0.1940 - accuracy: 0.0298 - val_loss: 0.1818 - val_accuracy: 0.0910\n",
            "Epoch 49/80\n",
            "74/74 [==============================] - 58s 789ms/step - loss: 0.1588 - accuracy: 0.2060 - val_loss: 0.1818 - val_accuracy: 0.0910\n",
            "Epoch 50/80\n",
            "74/74 [==============================] - 58s 788ms/step - loss: 0.1926 - accuracy: 0.0372 - val_loss: 0.1818 - val_accuracy: 0.0910\n",
            "Epoch 51/80\n",
            "74/74 [==============================] - 59s 789ms/step - loss: 0.1883 - accuracy: 0.0583 - val_loss: 0.1818 - val_accuracy: 0.0910\n",
            "Epoch 52/80\n",
            "74/74 [==============================] - 59s 790ms/step - loss: 0.1792 - accuracy: 0.1039 - val_loss: 0.1818 - val_accuracy: 0.0910\n",
            "Epoch 53/80\n",
            "74/74 [==============================] - 58s 788ms/step - loss: 0.1666 - accuracy: 0.1671 - val_loss: 0.1818 - val_accuracy: 0.0910\n",
            "Epoch 54/80\n",
            "74/74 [==============================] - 58s 789ms/step - loss: 0.1848 - accuracy: 0.0758 - val_loss: 0.1818 - val_accuracy: 0.0910\n",
            "Epoch 55/80\n",
            "74/74 [==============================] - 58s 786ms/step - loss: 0.1757 - accuracy: 0.1217 - val_loss: 0.1818 - val_accuracy: 0.0910\n",
            "Epoch 56/80\n",
            "74/74 [==============================] - 58s 786ms/step - loss: 0.1820 - accuracy: 0.0901 - val_loss: 0.1818 - val_accuracy: 0.0910\n",
            "Epoch 57/80\n",
            "74/74 [==============================] - 58s 786ms/step - loss: 0.1719 - accuracy: 0.1407 - val_loss: 0.1818 - val_accuracy: 0.0910\n",
            "Epoch 58/80\n",
            "74/74 [==============================] - 58s 788ms/step - loss: 0.1778 - accuracy: 0.1110 - val_loss: 0.1818 - val_accuracy: 0.0910\n",
            "Epoch 59/80\n",
            "74/74 [==============================] - 58s 789ms/step - loss: 0.1894 - accuracy: 0.0528 - val_loss: 0.1818 - val_accuracy: 0.0910\n",
            "Epoch 60/80\n",
            "74/74 [==============================] - 58s 788ms/step - loss: 0.1807 - accuracy: 0.0966 - val_loss: 0.1818 - val_accuracy: 0.0910\n",
            "Epoch 61/80\n",
            "74/74 [==============================] - 59s 790ms/step - loss: 0.1859 - accuracy: 0.0705 - val_loss: 0.1818 - val_accuracy: 0.0910\n",
            "Epoch 62/80\n",
            "74/74 [==============================] - 59s 792ms/step - loss: 0.1804 - accuracy: 0.0979 - val_loss: 0.1818 - val_accuracy: 0.0910\n",
            "Epoch 63/80\n",
            "74/74 [==============================] - 58s 788ms/step - loss: 0.1812 - accuracy: 0.0938 - val_loss: 0.1818 - val_accuracy: 0.0910\n",
            "Epoch 64/80\n",
            "74/74 [==============================] - 57s 773ms/step - loss: 0.1709 - accuracy: 0.1456 - val_loss: 0.1818 - val_accuracy: 0.0910\n",
            "Epoch 65/80\n",
            "74/74 [==============================] - 58s 783ms/step - loss: 0.1882 - accuracy: 0.0588 - val_loss: 0.1818 - val_accuracy: 0.0910\n",
            "Epoch 66/80\n",
            "74/74 [==============================] - 58s 782ms/step - loss: 0.1723 - accuracy: 0.1384 - val_loss: 0.1818 - val_accuracy: 0.0910\n",
            "Epoch 67/80\n",
            "74/74 [==============================] - 58s 785ms/step - loss: 0.1691 - accuracy: 0.1547 - val_loss: 0.1818 - val_accuracy: 0.0910\n",
            "Epoch 68/80\n",
            "74/74 [==============================] - 58s 785ms/step - loss: 0.1795 - accuracy: 0.1027 - val_loss: 0.1818 - val_accuracy: 0.0910\n",
            "Epoch 69/80\n",
            "74/74 [==============================] - 58s 785ms/step - loss: 0.1771 - accuracy: 0.1146 - val_loss: 0.1818 - val_accuracy: 0.0910\n",
            "Epoch 70/80\n",
            "74/74 [==============================] - 58s 785ms/step - loss: 0.1644 - accuracy: 0.1778 - val_loss: 0.1818 - val_accuracy: 0.0910\n",
            "Epoch 71/80\n",
            "74/74 [==============================] - 58s 788ms/step - loss: 0.1820 - accuracy: 0.0898 - val_loss: 0.1818 - val_accuracy: 0.0910\n",
            "Epoch 72/80\n",
            "74/74 [==============================] - 58s 788ms/step - loss: 0.1798 - accuracy: 0.1009 - val_loss: 0.1818 - val_accuracy: 0.0910\n",
            "Epoch 73/80\n",
            "74/74 [==============================] - 58s 788ms/step - loss: 0.1887 - accuracy: 0.0566 - val_loss: 0.1818 - val_accuracy: 0.0910\n",
            "Epoch 74/80\n",
            "74/74 [==============================] - 59s 791ms/step - loss: 0.1790 - accuracy: 0.1050 - val_loss: 0.1818 - val_accuracy: 0.0910\n",
            "Epoch 75/80\n",
            "74/74 [==============================] - 58s 787ms/step - loss: 0.1750 - accuracy: 0.1248 - val_loss: 0.1818 - val_accuracy: 0.0910\n",
            "Epoch 76/80\n",
            "74/74 [==============================] - 58s 788ms/step - loss: 0.1731 - accuracy: 0.1344 - val_loss: 0.1818 - val_accuracy: 0.0910\n",
            "Epoch 77/80\n",
            "74/74 [==============================] - 58s 788ms/step - loss: 0.1750 - accuracy: 0.1249 - val_loss: 0.1818 - val_accuracy: 0.0910\n",
            "Epoch 78/80\n",
            "74/74 [==============================] - 59s 788ms/step - loss: 0.1803 - accuracy: 0.0986 - val_loss: 0.1818 - val_accuracy: 0.0910\n",
            "Epoch 79/80\n",
            "74/74 [==============================] - 58s 787ms/step - loss: 0.1774 - accuracy: 0.1128 - val_loss: 0.1818 - val_accuracy: 0.0910\n",
            "Epoch 80/80\n",
            "74/74 [==============================] - 58s 787ms/step - loss: 0.1844 - accuracy: 0.0779 - val_loss: 0.1818 - val_accuracy: 0.0910\n"
          ],
          "name": "stdout"
        }
      ]
    },
    {
      "cell_type": "code",
      "metadata": {
        "id": "ePAL650AHIfN"
      },
      "source": [
        "loss_history_2 = (1-np.array(history_2.history['accuracy']))*100\n",
        "loss_history_test_2 = (1-np.array(history_2.history['val_accuracy']))*100\n",
        "numpy_loss_history_2 = np.array(loss_history_2)\n",
        "numpy_loss_history_test_2 = np.array(loss_history_test_2)\n",
        "np.savetxt(\"/content/drive/MyDrive/PRML/loss_history_imagenet_34layer_1.csv\", numpy_loss_history_2)\n",
        "np.savetxt(\"/content/drive/MyDrive/PRML/loss_history_imagenet_34layer_2.csv\", numpy_loss_history_test_2)"
      ],
      "execution_count": null,
      "outputs": []
    },
    {
      "cell_type": "code",
      "metadata": {
        "id": "xJrI2dfcEU25",
        "colab": {
          "base_uri": "https://localhost:8080/",
          "height": 282
        },
        "outputId": "dd8cdf9c-d274-4030-f25f-74159457a799"
      },
      "source": [
        "pyplot.plot((1-np.array(history_2.history['accuracy']))*100,'r-', label='train 34-layer')\n",
        "pyplot.plot((1-np.array(history_2.history['val_accuracy']))*100,'r--', label='test 34-layer')\n",
        "pyplot.xlabel('Epoch',fontsize=12)\n",
        "pyplot.ylabel('Error(%)',fontsize=12)\n",
        "pyplot.legend()\n",
        "pyplot.grid(color='y')\n",
        "pyplot.figure(1,dpi=120)\n",
        "pyplot.show()"
      ],
      "execution_count": null,
      "outputs": [
        {
          "output_type": "display_data",
          "data": {
            "image/png": "[encoded data removed]",
            "text/plain": [
              "<Figure size 432x288 with 1 Axes>"
            ]
          },
          "metadata": {
            "tags": [],
            "needs_background": "light"
          }
        }
      ]
    },
    {
      "cell_type": "code",
      "metadata": {
        "id": "2K0DEYlJW0yK"
      },
      "source": [
        "# plot diagnostic learning curves\n",
        "import numpy as np\n",
        "def summarize_diagnostics(history,history_2):\n",
        "  pyplot.title('Error')\n",
        "  \n",
        "  pyplot.plot((1-np.array(history.history['accuracy']))*100,'g-', label='train 18-layer')\n",
        "  #pyplot.plot((1-np.array(history.history['val_accuracy']))*100,'g--', label='test 18-layer')\n",
        "  pyplot.plot((1-np.array(history_2.history['accuracy']))*100,'r-', label='train 34-layer')\n",
        "  #pyplot.plot((1-np.array(history_2.history['val_accuracy']))*100,'r--', label='test 34-layer')     \n",
        "  # save plot to file\n",
        "  filename = sys.argv[0].split('/')[-1]\n",
        "  #pyplot.savefig(filename + '_plot.png')\n",
        "  pyplot.xlabel('Epoch',fontsize=12)\n",
        "  pyplot.ylabel('Error(%)',fontsize=12)\n",
        "  pyplot.legend()\n",
        "  pyplot.grid(color='y')\n",
        "  pyplot.figure(1,dpi=120)\n",
        "  pyplot.show()"
      ],
      "execution_count": null,
      "outputs": []
    },
    {
      "cell_type": "code",
      "metadata": {
        "id": "BVPr6RjhYOvX",
        "colab": {
          "base_uri": "https://localhost:8080/",
          "height": 162
        },
        "outputId": "713674d0-d4c8-4c21-e8bc-daded3d336ac"
      },
      "source": [
        "#summarize_diagnostics(history,history_2)"
      ],
      "execution_count": null,
      "outputs": [
        {
          "output_type": "error",
          "ename": "NameError",
          "evalue": "ignored",
          "traceback": [
            "\u001b[0;31m---------------------------------------------------------------------------\u001b[0m",
            "\u001b[0;31mNameError\u001b[0m                                 Traceback (most recent call last)",
            "\u001b[0;32m<ipython-input-30-5527def527a3>\u001b[0m in \u001b[0;36m<module>\u001b[0;34m()\u001b[0m\n\u001b[0;32m----> 1\u001b[0;31m \u001b[0msummarize_diagnostics\u001b[0m\u001b[0;34m(\u001b[0m\u001b[0mhistory\u001b[0m\u001b[0;34m,\u001b[0m\u001b[0mhistory_2\u001b[0m\u001b[0;34m)\u001b[0m\u001b[0;34m\u001b[0m\u001b[0;34m\u001b[0m\u001b[0m\n\u001b[0m",
            "\u001b[0;31mNameError\u001b[0m: name 'history' is not defined"
          ]
        }
      ]
    }
  ]
}