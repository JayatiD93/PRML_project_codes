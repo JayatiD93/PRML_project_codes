{
  "nbformat": 4,
  "nbformat_minor": 0,
  "metadata": {
    "colab": {
      "name": "plainNet_Imagenette.ipynb",
      "provenance": [],
      "collapsed_sections": []
    },
    "kernelspec": {
      "name": "python3",
      "display_name": "Python 3"
    },
    "language_info": {
      "name": "python"
    },
    "accelerator": "GPU"
  },
  "cells": [
    {
      "cell_type": "code",
      "metadata": {
        "id": "TH0d3e58cbfN"
      },
      "source": [
        "# example of a CNN model with an identity or projection residual module\n",
        "# Example of creating a CNN model with a VGG block\n",
        "from keras.models import Model\n",
        "from keras.layers import Input\n",
        "from keras.layers import Conv2D\n",
        "from keras.layers import MaxPooling2D\n",
        "\n",
        "from keras.layers import BatchNormalization\n",
        "from tensorflow.keras import activations\n",
        "from tensorflow.keras import layers\n",
        "from keras.layers import GlobalAveragePooling2D\n",
        "from keras.layers import Dense\n",
        "from tensorflow.keras.utils import plot_model\n",
        "from tensorflow.keras.utils import to_categorical\n",
        "from keras.layers import Activation\n",
        "\n",
        "import sys\n",
        "from matplotlib import pyplot\n",
        "from keras.datasets import cifar10\n",
        "from keras.models import Sequential\n",
        "from keras.layers import Flatten\n",
        "from keras.optimizers import SGD\n",
        "from keras.layers import add\n",
        "import tensorflow as tf"
      ],
      "execution_count": null,
      "outputs": []
    },
    {
      "cell_type": "code",
      "metadata": {
        "id": "X_QSHuq6gNiS",
        "colab": {
          "base_uri": "https://localhost:8080/"
        },
        "outputId": "e72a03d3-4faa-418c-b5a4-cab3d336eeb4"
      },
      "source": [
        "from google.colab import drive\n",
        "drive.mount('/content/drive')"
      ],
      "execution_count": null,
      "outputs": [
        {
          "output_type": "stream",
          "text": [
            "Drive already mounted at /content/drive; to attempt to forcibly remount, call drive.mount(\"/content/drive\", force_remount=True).\n"
          ],
          "name": "stdout"
        }
      ]
    },
    {
      "cell_type": "code",
      "metadata": {
        "id": "4DIP8czYgZTn",
        "colab": {
          "base_uri": "https://localhost:8080/"
        },
        "outputId": "9f2e6578-7699-46ea-8348-c68f88f4732a"
      },
      "source": [
        "%cd /content/drive/MyDrive/PRML"
      ],
      "execution_count": null,
      "outputs": [
        {
          "output_type": "stream",
          "text": [
            "/content/drive/MyDrive/PRML\n"
          ],
          "name": "stdout"
        }
      ]
    },
    {
      "cell_type": "code",
      "metadata": {
        "id": "99xS7HiRgd53"
      },
      "source": [
        "def plain_ntw(layer_in, n_filters, n_conv):\n",
        "\n",
        "  for _ in range(n_conv):\n",
        "\n",
        "    layer_in = Conv2D(n_filters, (3,3), padding='same')(layer_in)\n",
        "    layer_in = BatchNormalization()(layer_in)\n",
        "    layer_in = (layers.Activation(activations.relu))(layer_in)\n",
        "    \n",
        "  return layer_in"
      ],
      "execution_count": null,
      "outputs": []
    },
    {
      "cell_type": "code",
      "metadata": {
        "id": "i22HbTK9kQmR"
      },
      "source": [
        "from keras.preprocessing.image import ImageDataGenerator\n",
        "\n",
        "# create a new generator\n",
        "imagegen = ImageDataGenerator()"
      ],
      "execution_count": null,
      "outputs": []
    },
    {
      "cell_type": "code",
      "metadata": {
        "id": "EtZYK1ASkVqb",
        "colab": {
          "base_uri": "https://localhost:8080/"
        },
        "outputId": "4dab65ae-42d5-43c6-952d-587417095fc4"
      },
      "source": [
        "# load train data\n",
        "train = imagegen.flow_from_directory(\"/content/drive/MyDrive/PRML/imagenette2-160/train/\", class_mode=\"categorical\", shuffle=False, batch_size=128, target_size=(224, 224))"
      ],
      "execution_count": null,
      "outputs": [
        {
          "output_type": "stream",
          "text": [
            "Found 9469 images belonging to 10 classes.\n"
          ],
          "name": "stdout"
        }
      ]
    },
    {
      "cell_type": "code",
      "metadata": {
        "id": "idiZgCE5kpLf",
        "colab": {
          "base_uri": "https://localhost:8080/"
        },
        "outputId": "314c173a-2cd5-4a45-8e06-7a9e3d01b165"
      },
      "source": [
        "# load val data\n",
        "val = imagegen.flow_from_directory(\"/content/drive/MyDrive/PRML/imagenette2-160/val/\", class_mode=\"categorical\", shuffle=False, batch_size=128, target_size=(224, 224))"
      ],
      "execution_count": null,
      "outputs": [
        {
          "output_type": "stream",
          "text": [
            "Found 3925 images belonging to 10 classes.\n"
          ],
          "name": "stdout"
        }
      ]
    },
    {
      "cell_type": "code",
      "metadata": {
        "id": "s1QjonC0uLkV"
      },
      "source": [
        "## Plain-net with layer = 18\n",
        "\n",
        "visible = Input(shape=(224, 224, 3))\n",
        "layer =Conv2D(64, (7,7),strides=(2, 2), padding='same')(visible)\n",
        "layer = BatchNormalization()(layer)\n",
        "layer = (layers.Activation(activations.relu))(layer)\n",
        "layer = tf.keras.layers.MaxPooling2D(pool_size=(3, 3), strides=(2, 2), padding=\"same\")(layer)\n",
        "layer = BatchNormalization()(layer)\n",
        "layer = layers.Activation(activations.relu)(layer)\n",
        "\n",
        "layer = plain_ntw(layer, 64, 4)\n",
        "layer =Conv2D(128, (3,3),strides=(2, 2), padding='same')(layer)\n",
        "layer = BatchNormalization()(layer)\n",
        "layer = (layers.Activation(activations.relu))(layer)\n",
        "layer = plain_ntw(layer, 128, 3)\n",
        "layer =Conv2D(256, (3,3),strides=(2, 2), padding='same')(layer)\n",
        "layer = BatchNormalization()(layer)\n",
        "layer = (layers.Activation(activations.relu))(layer)\n",
        "layer = plain_ntw(layer, 256, 3)\n",
        "layer =Conv2D(512, (3,3),strides=(2, 2), padding='same')(layer)\n",
        "layer = BatchNormalization()(layer)\n",
        "layer = (layers.Activation(activations.relu))(layer)\n",
        "layer = plain_ntw(layer, 512, 3)\n",
        "layer = GlobalAveragePooling2D()(layer)\n",
        "layer = Dense(10, activation='softmax')(layer)"
      ],
      "execution_count": null,
      "outputs": []
    },
    {
      "cell_type": "code",
      "metadata": {
        "id": "EB4vl6snxrK2"
      },
      "source": [
        "# create model\n",
        "model = Model(inputs=visible, outputs=layer)"
      ],
      "execution_count": null,
      "outputs": []
    },
    {
      "cell_type": "code",
      "metadata": {
        "id": "q_agx9-JxuZu",
        "colab": {
          "base_uri": "https://localhost:8080/"
        },
        "outputId": "97df600f-7c0d-4b26-b04b-9ccffa7aaa22"
      },
      "source": [
        "# summarize model\n",
        "model.summary()"
      ],
      "execution_count": null,
      "outputs": [
        {
          "output_type": "stream",
          "text": [
            "Model: \"model\"\n",
            "_________________________________________________________________\n",
            "Layer (type)                 Output Shape              Param #   \n",
            "=================================================================\n",
            "input_1 (InputLayer)         [(None, 224, 224, 3)]     0         \n",
            "_________________________________________________________________\n",
            "conv2d (Conv2D)              (None, 112, 112, 64)      9472      \n",
            "_________________________________________________________________\n",
            "batch_normalization (BatchNo (None, 112, 112, 64)      256       \n",
            "_________________________________________________________________\n",
            "tf.nn.relu (TFOpLambda)      (None, 112, 112, 64)      0         \n",
            "_________________________________________________________________\n",
            "tf.compat.v1.nn.max_pool (TF (None, 56, 56, 64)        0         \n",
            "_________________________________________________________________\n",
            "batch_normalization_1 (Batch (None, 56, 56, 64)        256       \n",
            "_________________________________________________________________\n",
            "tf.nn.relu_1 (TFOpLambda)    (None, 56, 56, 64)        0         \n",
            "_________________________________________________________________\n",
            "conv2d_1 (Conv2D)            (None, 56, 56, 64)        36928     \n",
            "_________________________________________________________________\n",
            "batch_normalization_2 (Batch (None, 56, 56, 64)        256       \n",
            "_________________________________________________________________\n",
            "tf.nn.relu_2 (TFOpLambda)    (None, 56, 56, 64)        0         \n",
            "_________________________________________________________________\n",
            "conv2d_2 (Conv2D)            (None, 56, 56, 64)        36928     \n",
            "_________________________________________________________________\n",
            "batch_normalization_3 (Batch (None, 56, 56, 64)        256       \n",
            "_________________________________________________________________\n",
            "tf.nn.relu_3 (TFOpLambda)    (None, 56, 56, 64)        0         \n",
            "_________________________________________________________________\n",
            "conv2d_3 (Conv2D)            (None, 56, 56, 64)        36928     \n",
            "_________________________________________________________________\n",
            "batch_normalization_4 (Batch (None, 56, 56, 64)        256       \n",
            "_________________________________________________________________\n",
            "tf.nn.relu_4 (TFOpLambda)    (None, 56, 56, 64)        0         \n",
            "_________________________________________________________________\n",
            "conv2d_4 (Conv2D)            (None, 56, 56, 64)        36928     \n",
            "_________________________________________________________________\n",
            "batch_normalization_5 (Batch (None, 56, 56, 64)        256       \n",
            "_________________________________________________________________\n",
            "tf.nn.relu_5 (TFOpLambda)    (None, 56, 56, 64)        0         \n",
            "_________________________________________________________________\n",
            "conv2d_5 (Conv2D)            (None, 28, 28, 128)       73856     \n",
            "_________________________________________________________________\n",
            "batch_normalization_6 (Batch (None, 28, 28, 128)       512       \n",
            "_________________________________________________________________\n",
            "tf.nn.relu_6 (TFOpLambda)    (None, 28, 28, 128)       0         \n",
            "_________________________________________________________________\n",
            "conv2d_6 (Conv2D)            (None, 28, 28, 128)       147584    \n",
            "_________________________________________________________________\n",
            "batch_normalization_7 (Batch (None, 28, 28, 128)       512       \n",
            "_________________________________________________________________\n",
            "tf.nn.relu_7 (TFOpLambda)    (None, 28, 28, 128)       0         \n",
            "_________________________________________________________________\n",
            "conv2d_7 (Conv2D)            (None, 28, 28, 128)       147584    \n",
            "_________________________________________________________________\n",
            "batch_normalization_8 (Batch (None, 28, 28, 128)       512       \n",
            "_________________________________________________________________\n",
            "tf.nn.relu_8 (TFOpLambda)    (None, 28, 28, 128)       0         \n",
            "_________________________________________________________________\n",
            "conv2d_8 (Conv2D)            (None, 28, 28, 128)       147584    \n",
            "_________________________________________________________________\n",
            "batch_normalization_9 (Batch (None, 28, 28, 128)       512       \n",
            "_________________________________________________________________\n",
            "tf.nn.relu_9 (TFOpLambda)    (None, 28, 28, 128)       0         \n",
            "_________________________________________________________________\n",
            "conv2d_9 (Conv2D)            (None, 14, 14, 256)       295168    \n",
            "_________________________________________________________________\n",
            "batch_normalization_10 (Batc (None, 14, 14, 256)       1024      \n",
            "_________________________________________________________________\n",
            "tf.nn.relu_10 (TFOpLambda)   (None, 14, 14, 256)       0         \n",
            "_________________________________________________________________\n",
            "conv2d_10 (Conv2D)           (None, 14, 14, 256)       590080    \n",
            "_________________________________________________________________\n",
            "batch_normalization_11 (Batc (None, 14, 14, 256)       1024      \n",
            "_________________________________________________________________\n",
            "tf.nn.relu_11 (TFOpLambda)   (None, 14, 14, 256)       0         \n",
            "_________________________________________________________________\n",
            "conv2d_11 (Conv2D)           (None, 14, 14, 256)       590080    \n",
            "_________________________________________________________________\n",
            "batch_normalization_12 (Batc (None, 14, 14, 256)       1024      \n",
            "_________________________________________________________________\n",
            "tf.nn.relu_12 (TFOpLambda)   (None, 14, 14, 256)       0         \n",
            "_________________________________________________________________\n",
            "conv2d_12 (Conv2D)           (None, 14, 14, 256)       590080    \n",
            "_________________________________________________________________\n",
            "batch_normalization_13 (Batc (None, 14, 14, 256)       1024      \n",
            "_________________________________________________________________\n",
            "tf.nn.relu_13 (TFOpLambda)   (None, 14, 14, 256)       0         \n",
            "_________________________________________________________________\n",
            "conv2d_13 (Conv2D)           (None, 7, 7, 512)         1180160   \n",
            "_________________________________________________________________\n",
            "batch_normalization_14 (Batc (None, 7, 7, 512)         2048      \n",
            "_________________________________________________________________\n",
            "tf.nn.relu_14 (TFOpLambda)   (None, 7, 7, 512)         0         \n",
            "_________________________________________________________________\n",
            "conv2d_14 (Conv2D)           (None, 7, 7, 512)         2359808   \n",
            "_________________________________________________________________\n",
            "batch_normalization_15 (Batc (None, 7, 7, 512)         2048      \n",
            "_________________________________________________________________\n",
            "tf.nn.relu_15 (TFOpLambda)   (None, 7, 7, 512)         0         \n",
            "_________________________________________________________________\n",
            "conv2d_15 (Conv2D)           (None, 7, 7, 512)         2359808   \n",
            "_________________________________________________________________\n",
            "batch_normalization_16 (Batc (None, 7, 7, 512)         2048      \n",
            "_________________________________________________________________\n",
            "tf.nn.relu_16 (TFOpLambda)   (None, 7, 7, 512)         0         \n",
            "_________________________________________________________________\n",
            "conv2d_16 (Conv2D)           (None, 7, 7, 512)         2359808   \n",
            "_________________________________________________________________\n",
            "batch_normalization_17 (Batc (None, 7, 7, 512)         2048      \n",
            "_________________________________________________________________\n",
            "tf.nn.relu_17 (TFOpLambda)   (None, 7, 7, 512)         0         \n",
            "_________________________________________________________________\n",
            "global_average_pooling2d (Gl (None, 512)               0         \n",
            "_________________________________________________________________\n",
            "dense (Dense)                (None, 10)                5130      \n",
            "=================================================================\n",
            "Total params: 11,019,786\n",
            "Trainable params: 11,011,850\n",
            "Non-trainable params: 7,936\n",
            "_________________________________________________________________\n"
          ],
          "name": "stdout"
        }
      ]
    },
    {
      "cell_type": "code",
      "metadata": {
        "id": "JADk9dEryBX9"
      },
      "source": [
        "## Plain-net with layer = 34\n",
        "\n",
        "layer_34 = Conv2D(64, (7,7),strides=(2, 2),  padding='same')(visible)\n",
        "layer_34 = BatchNormalization()(layer_34)\n",
        "layer_34 = layers.Activation(activations.relu)(layer_34)\n",
        "layer_34 = tf.keras.layers.MaxPooling2D(pool_size=(3, 3), strides=(2, 2), padding=\"same\")(layer_34)\n",
        "layer_34 = BatchNormalization()(layer_34)\n",
        "layer_34 = layers.Activation(activations.relu)(layer_34)\n",
        "\n",
        "layer_34 = plain_ntw(layer_34, 64, 6)\n",
        "layer_34 =Conv2D(128, (3,3),strides=(2, 2), padding='same')(layer_34)\n",
        "layer_34 = BatchNormalization()(layer_34)\n",
        "layer_34 = (layers.Activation(activations.relu))(layer_34)\n",
        "layer_34 = plain_ntw(layer_34, 128, 7)\n",
        "layer_34 =Conv2D(256, (3,3),strides=(2, 2), padding='same')(layer_34)\n",
        "layer_34 = BatchNormalization()(layer_34)\n",
        "layer_34 = (layers.Activation(activations.relu))(layer_34)\n",
        "layer_34 = plain_ntw(layer_34, 256, 11)\n",
        "layer_34 =Conv2D(512, (3,3),strides=(2, 2), padding='same')(layer_34)\n",
        "layer_34 = BatchNormalization()(layer_34)\n",
        "layer_34 = (layers.Activation(activations.relu))(layer_34)\n",
        "layer_34 = plain_ntw(layer_34, 512, 5)\n",
        "layer_34 = GlobalAveragePooling2D()(layer_34)\n",
        "layer_34 = Dense(10, activation='softmax')(layer_34)"
      ],
      "execution_count": null,
      "outputs": []
    },
    {
      "cell_type": "code",
      "metadata": {
        "id": "QNpBJF8J5x7d"
      },
      "source": [
        "# create model\n",
        "model_2 = Model(inputs=visible, outputs=layer_34)"
      ],
      "execution_count": null,
      "outputs": []
    },
    {
      "cell_type": "code",
      "metadata": {
        "id": "6oBLdzVP50vd",
        "colab": {
          "base_uri": "https://localhost:8080/"
        },
        "outputId": "33261bbe-fcda-4f03-96a0-5d7edfc7823c"
      },
      "source": [
        "# summarize model\n",
        "model_2.summary()"
      ],
      "execution_count": null,
      "outputs": [
        {
          "output_type": "stream",
          "text": [
            "Model: \"model_1\"\n",
            "_________________________________________________________________\n",
            "Layer (type)                 Output Shape              Param #   \n",
            "=================================================================\n",
            "input_1 (InputLayer)         [(None, 224, 224, 3)]     0         \n",
            "_________________________________________________________________\n",
            "conv2d_17 (Conv2D)           (None, 112, 112, 64)      9472      \n",
            "_________________________________________________________________\n",
            "batch_normalization_18 (Batc (None, 112, 112, 64)      256       \n",
            "_________________________________________________________________\n",
            "tf.nn.relu_18 (TFOpLambda)   (None, 112, 112, 64)      0         \n",
            "_________________________________________________________________\n",
            "tf.compat.v1.nn.max_pool_1 ( (None, 56, 56, 64)        0         \n",
            "_________________________________________________________________\n",
            "batch_normalization_19 (Batc (None, 56, 56, 64)        256       \n",
            "_________________________________________________________________\n",
            "tf.nn.relu_19 (TFOpLambda)   (None, 56, 56, 64)        0         \n",
            "_________________________________________________________________\n",
            "conv2d_18 (Conv2D)           (None, 56, 56, 64)        36928     \n",
            "_________________________________________________________________\n",
            "batch_normalization_20 (Batc (None, 56, 56, 64)        256       \n",
            "_________________________________________________________________\n",
            "tf.nn.relu_20 (TFOpLambda)   (None, 56, 56, 64)        0         \n",
            "_________________________________________________________________\n",
            "conv2d_19 (Conv2D)           (None, 56, 56, 64)        36928     \n",
            "_________________________________________________________________\n",
            "batch_normalization_21 (Batc (None, 56, 56, 64)        256       \n",
            "_________________________________________________________________\n",
            "tf.nn.relu_21 (TFOpLambda)   (None, 56, 56, 64)        0         \n",
            "_________________________________________________________________\n",
            "conv2d_20 (Conv2D)           (None, 56, 56, 64)        36928     \n",
            "_________________________________________________________________\n",
            "batch_normalization_22 (Batc (None, 56, 56, 64)        256       \n",
            "_________________________________________________________________\n",
            "tf.nn.relu_22 (TFOpLambda)   (None, 56, 56, 64)        0         \n",
            "_________________________________________________________________\n",
            "conv2d_21 (Conv2D)           (None, 56, 56, 64)        36928     \n",
            "_________________________________________________________________\n",
            "batch_normalization_23 (Batc (None, 56, 56, 64)        256       \n",
            "_________________________________________________________________\n",
            "tf.nn.relu_23 (TFOpLambda)   (None, 56, 56, 64)        0         \n",
            "_________________________________________________________________\n",
            "conv2d_22 (Conv2D)           (None, 56, 56, 64)        36928     \n",
            "_________________________________________________________________\n",
            "batch_normalization_24 (Batc (None, 56, 56, 64)        256       \n",
            "_________________________________________________________________\n",
            "tf.nn.relu_24 (TFOpLambda)   (None, 56, 56, 64)        0         \n",
            "_________________________________________________________________\n",
            "conv2d_23 (Conv2D)           (None, 56, 56, 64)        36928     \n",
            "_________________________________________________________________\n",
            "batch_normalization_25 (Batc (None, 56, 56, 64)        256       \n",
            "_________________________________________________________________\n",
            "tf.nn.relu_25 (TFOpLambda)   (None, 56, 56, 64)        0         \n",
            "_________________________________________________________________\n",
            "conv2d_24 (Conv2D)           (None, 28, 28, 128)       73856     \n",
            "_________________________________________________________________\n",
            "batch_normalization_26 (Batc (None, 28, 28, 128)       512       \n",
            "_________________________________________________________________\n",
            "tf.nn.relu_26 (TFOpLambda)   (None, 28, 28, 128)       0         \n",
            "_________________________________________________________________\n",
            "conv2d_25 (Conv2D)           (None, 28, 28, 128)       147584    \n",
            "_________________________________________________________________\n",
            "batch_normalization_27 (Batc (None, 28, 28, 128)       512       \n",
            "_________________________________________________________________\n",
            "tf.nn.relu_27 (TFOpLambda)   (None, 28, 28, 128)       0         \n",
            "_________________________________________________________________\n",
            "conv2d_26 (Conv2D)           (None, 28, 28, 128)       147584    \n",
            "_________________________________________________________________\n",
            "batch_normalization_28 (Batc (None, 28, 28, 128)       512       \n",
            "_________________________________________________________________\n",
            "tf.nn.relu_28 (TFOpLambda)   (None, 28, 28, 128)       0         \n",
            "_________________________________________________________________\n",
            "conv2d_27 (Conv2D)           (None, 28, 28, 128)       147584    \n",
            "_________________________________________________________________\n",
            "batch_normalization_29 (Batc (None, 28, 28, 128)       512       \n",
            "_________________________________________________________________\n",
            "tf.nn.relu_29 (TFOpLambda)   (None, 28, 28, 128)       0         \n",
            "_________________________________________________________________\n",
            "conv2d_28 (Conv2D)           (None, 28, 28, 128)       147584    \n",
            "_________________________________________________________________\n",
            "batch_normalization_30 (Batc (None, 28, 28, 128)       512       \n",
            "_________________________________________________________________\n",
            "tf.nn.relu_30 (TFOpLambda)   (None, 28, 28, 128)       0         \n",
            "_________________________________________________________________\n",
            "conv2d_29 (Conv2D)           (None, 28, 28, 128)       147584    \n",
            "_________________________________________________________________\n",
            "batch_normalization_31 (Batc (None, 28, 28, 128)       512       \n",
            "_________________________________________________________________\n",
            "tf.nn.relu_31 (TFOpLambda)   (None, 28, 28, 128)       0         \n",
            "_________________________________________________________________\n",
            "conv2d_30 (Conv2D)           (None, 28, 28, 128)       147584    \n",
            "_________________________________________________________________\n",
            "batch_normalization_32 (Batc (None, 28, 28, 128)       512       \n",
            "_________________________________________________________________\n",
            "tf.nn.relu_32 (TFOpLambda)   (None, 28, 28, 128)       0         \n",
            "_________________________________________________________________\n",
            "conv2d_31 (Conv2D)           (None, 28, 28, 128)       147584    \n",
            "_________________________________________________________________\n",
            "batch_normalization_33 (Batc (None, 28, 28, 128)       512       \n",
            "_________________________________________________________________\n",
            "tf.nn.relu_33 (TFOpLambda)   (None, 28, 28, 128)       0         \n",
            "_________________________________________________________________\n",
            "conv2d_32 (Conv2D)           (None, 14, 14, 256)       295168    \n",
            "_________________________________________________________________\n",
            "batch_normalization_34 (Batc (None, 14, 14, 256)       1024      \n",
            "_________________________________________________________________\n",
            "tf.nn.relu_34 (TFOpLambda)   (None, 14, 14, 256)       0         \n",
            "_________________________________________________________________\n",
            "conv2d_33 (Conv2D)           (None, 14, 14, 256)       590080    \n",
            "_________________________________________________________________\n",
            "batch_normalization_35 (Batc (None, 14, 14, 256)       1024      \n",
            "_________________________________________________________________\n",
            "tf.nn.relu_35 (TFOpLambda)   (None, 14, 14, 256)       0         \n",
            "_________________________________________________________________\n",
            "conv2d_34 (Conv2D)           (None, 14, 14, 256)       590080    \n",
            "_________________________________________________________________\n",
            "batch_normalization_36 (Batc (None, 14, 14, 256)       1024      \n",
            "_________________________________________________________________\n",
            "tf.nn.relu_36 (TFOpLambda)   (None, 14, 14, 256)       0         \n",
            "_________________________________________________________________\n",
            "conv2d_35 (Conv2D)           (None, 14, 14, 256)       590080    \n",
            "_________________________________________________________________\n",
            "batch_normalization_37 (Batc (None, 14, 14, 256)       1024      \n",
            "_________________________________________________________________\n",
            "tf.nn.relu_37 (TFOpLambda)   (None, 14, 14, 256)       0         \n",
            "_________________________________________________________________\n",
            "conv2d_36 (Conv2D)           (None, 14, 14, 256)       590080    \n",
            "_________________________________________________________________\n",
            "batch_normalization_38 (Batc (None, 14, 14, 256)       1024      \n",
            "_________________________________________________________________\n",
            "tf.nn.relu_38 (TFOpLambda)   (None, 14, 14, 256)       0         \n",
            "_________________________________________________________________\n",
            "conv2d_37 (Conv2D)           (None, 14, 14, 256)       590080    \n",
            "_________________________________________________________________\n",
            "batch_normalization_39 (Batc (None, 14, 14, 256)       1024      \n",
            "_________________________________________________________________\n",
            "tf.nn.relu_39 (TFOpLambda)   (None, 14, 14, 256)       0         \n",
            "_________________________________________________________________\n",
            "conv2d_38 (Conv2D)           (None, 14, 14, 256)       590080    \n",
            "_________________________________________________________________\n",
            "batch_normalization_40 (Batc (None, 14, 14, 256)       1024      \n",
            "_________________________________________________________________\n",
            "tf.nn.relu_40 (TFOpLambda)   (None, 14, 14, 256)       0         \n",
            "_________________________________________________________________\n",
            "conv2d_39 (Conv2D)           (None, 14, 14, 256)       590080    \n",
            "_________________________________________________________________\n",
            "batch_normalization_41 (Batc (None, 14, 14, 256)       1024      \n",
            "_________________________________________________________________\n",
            "tf.nn.relu_41 (TFOpLambda)   (None, 14, 14, 256)       0         \n",
            "_________________________________________________________________\n",
            "conv2d_40 (Conv2D)           (None, 14, 14, 256)       590080    \n",
            "_________________________________________________________________\n",
            "batch_normalization_42 (Batc (None, 14, 14, 256)       1024      \n",
            "_________________________________________________________________\n",
            "tf.nn.relu_42 (TFOpLambda)   (None, 14, 14, 256)       0         \n",
            "_________________________________________________________________\n",
            "conv2d_41 (Conv2D)           (None, 14, 14, 256)       590080    \n",
            "_________________________________________________________________\n",
            "batch_normalization_43 (Batc (None, 14, 14, 256)       1024      \n",
            "_________________________________________________________________\n",
            "tf.nn.relu_43 (TFOpLambda)   (None, 14, 14, 256)       0         \n",
            "_________________________________________________________________\n",
            "conv2d_42 (Conv2D)           (None, 14, 14, 256)       590080    \n",
            "_________________________________________________________________\n",
            "batch_normalization_44 (Batc (None, 14, 14, 256)       1024      \n",
            "_________________________________________________________________\n",
            "tf.nn.relu_44 (TFOpLambda)   (None, 14, 14, 256)       0         \n",
            "_________________________________________________________________\n",
            "conv2d_43 (Conv2D)           (None, 14, 14, 256)       590080    \n",
            "_________________________________________________________________\n",
            "batch_normalization_45 (Batc (None, 14, 14, 256)       1024      \n",
            "_________________________________________________________________\n",
            "tf.nn.relu_45 (TFOpLambda)   (None, 14, 14, 256)       0         \n",
            "_________________________________________________________________\n",
            "conv2d_44 (Conv2D)           (None, 7, 7, 512)         1180160   \n",
            "_________________________________________________________________\n",
            "batch_normalization_46 (Batc (None, 7, 7, 512)         2048      \n",
            "_________________________________________________________________\n",
            "tf.nn.relu_46 (TFOpLambda)   (None, 7, 7, 512)         0         \n",
            "_________________________________________________________________\n",
            "conv2d_45 (Conv2D)           (None, 7, 7, 512)         2359808   \n",
            "_________________________________________________________________\n",
            "batch_normalization_47 (Batc (None, 7, 7, 512)         2048      \n",
            "_________________________________________________________________\n",
            "tf.nn.relu_47 (TFOpLambda)   (None, 7, 7, 512)         0         \n",
            "_________________________________________________________________\n",
            "conv2d_46 (Conv2D)           (None, 7, 7, 512)         2359808   \n",
            "_________________________________________________________________\n",
            "batch_normalization_48 (Batc (None, 7, 7, 512)         2048      \n",
            "_________________________________________________________________\n",
            "tf.nn.relu_48 (TFOpLambda)   (None, 7, 7, 512)         0         \n",
            "_________________________________________________________________\n",
            "conv2d_47 (Conv2D)           (None, 7, 7, 512)         2359808   \n",
            "_________________________________________________________________\n",
            "batch_normalization_49 (Batc (None, 7, 7, 512)         2048      \n",
            "_________________________________________________________________\n",
            "tf.nn.relu_49 (TFOpLambda)   (None, 7, 7, 512)         0         \n",
            "_________________________________________________________________\n",
            "conv2d_48 (Conv2D)           (None, 7, 7, 512)         2359808   \n",
            "_________________________________________________________________\n",
            "batch_normalization_50 (Batc (None, 7, 7, 512)         2048      \n",
            "_________________________________________________________________\n",
            "tf.nn.relu_50 (TFOpLambda)   (None, 7, 7, 512)         0         \n",
            "_________________________________________________________________\n",
            "conv2d_49 (Conv2D)           (None, 7, 7, 512)         2359808   \n",
            "_________________________________________________________________\n",
            "batch_normalization_51 (Batc (None, 7, 7, 512)         2048      \n",
            "_________________________________________________________________\n",
            "tf.nn.relu_51 (TFOpLambda)   (None, 7, 7, 512)         0         \n",
            "_________________________________________________________________\n",
            "global_average_pooling2d_1 ( (None, 512)               0         \n",
            "_________________________________________________________________\n",
            "dense_1 (Dense)              (None, 10)                5130      \n",
            "=================================================================\n",
            "Total params: 21,139,082\n",
            "Trainable params: 21,123,722\n",
            "Non-trainable params: 15,360\n",
            "_________________________________________________________________\n"
          ],
          "name": "stdout"
        }
      ]
    },
    {
      "cell_type": "code",
      "metadata": {
        "id": "JhlUd4Bm55nd"
      },
      "source": [
        "opt = SGD(learning_rate=0.1, momentum=0.9)"
      ],
      "execution_count": null,
      "outputs": []
    },
    {
      "cell_type": "code",
      "metadata": {
        "id": "mjJx0XBV58q2"
      },
      "source": [
        "model.compile(loss='mse', optimizer=opt, metrics=['accuracy'])"
      ],
      "execution_count": null,
      "outputs": []
    },
    {
      "cell_type": "code",
      "metadata": {
        "id": "ztlaXpVn5_q2"
      },
      "source": [
        "epoch =50"
      ],
      "execution_count": null,
      "outputs": []
    },
    {
      "cell_type": "code",
      "metadata": {
        "id": "1P_RUoq96h2_",
        "colab": {
          "base_uri": "https://localhost:8080/"
        },
        "outputId": "86c814f4-6eab-4df2-843b-869671574d27"
      },
      "source": [
        "history = model.fit_generator(train, epochs=epoch, validation_data=val)"
      ],
      "execution_count": null,
      "outputs": [
        {
          "output_type": "stream",
          "text": [
            "/usr/local/lib/python3.7/dist-packages/keras/engine/training.py:1915: UserWarning: `Model.fit_generator` is deprecated and will be removed in a future version. Please use `Model.fit`, which supports generators.\n",
            "  warnings.warn('`Model.fit_generator` is deprecated and '\n"
          ],
          "name": "stderr"
        },
        {
          "output_type": "stream",
          "text": [
            "Epoch 1/20\n",
            "74/74 [==============================] - 1646s 22s/step - loss: 0.0954 - accuracy: 0.0654 - val_loss: 0.0907 - val_accuracy: 0.0932\n",
            "Epoch 2/20\n",
            "74/74 [==============================] - 37s 498ms/step - loss: 0.0923 - accuracy: 0.0935 - val_loss: 0.0904 - val_accuracy: 0.1004\n",
            "Epoch 3/20\n",
            "74/74 [==============================] - 37s 503ms/step - loss: 0.0907 - accuracy: 0.1075 - val_loss: 0.0903 - val_accuracy: 0.0910\n",
            "Epoch 4/20\n",
            "74/74 [==============================] - 37s 505ms/step - loss: 0.0908 - accuracy: 0.1045 - val_loss: 0.0919 - val_accuracy: 0.0991\n",
            "Epoch 5/20\n",
            "74/74 [==============================] - 38s 507ms/step - loss: 0.0903 - accuracy: 0.1197 - val_loss: 0.0910 - val_accuracy: 0.1014\n",
            "Epoch 6/20\n",
            "74/74 [==============================] - 38s 509ms/step - loss: 0.0905 - accuracy: 0.1392 - val_loss: 0.0914 - val_accuracy: 0.1080\n",
            "Epoch 7/20\n",
            "74/74 [==============================] - 38s 517ms/step - loss: 0.0903 - accuracy: 0.1338 - val_loss: 0.1484 - val_accuracy: 0.1006\n",
            "Epoch 8/20\n",
            "74/74 [==============================] - 38s 512ms/step - loss: 0.0913 - accuracy: 0.1190 - val_loss: 0.1069 - val_accuracy: 0.1075\n",
            "Epoch 9/20\n",
            "74/74 [==============================] - 38s 513ms/step - loss: 0.0921 - accuracy: 0.1045 - val_loss: 0.0911 - val_accuracy: 0.0994\n",
            "Epoch 10/20\n",
            "74/74 [==============================] - 38s 515ms/step - loss: 0.0923 - accuracy: 0.0829 - val_loss: 0.1151 - val_accuracy: 0.1050\n",
            "Epoch 11/20\n",
            "74/74 [==============================] - 38s 514ms/step - loss: 0.0914 - accuracy: 0.1130 - val_loss: 0.0906 - val_accuracy: 0.1047\n",
            "Epoch 12/20\n",
            "74/74 [==============================] - 38s 515ms/step - loss: 0.0922 - accuracy: 0.1078 - val_loss: 0.0898 - val_accuracy: 0.1233\n",
            "Epoch 13/20\n",
            "74/74 [==============================] - 39s 519ms/step - loss: 0.0917 - accuracy: 0.1187 - val_loss: 0.0901 - val_accuracy: 0.1024\n",
            "Epoch 14/20\n",
            "74/74 [==============================] - 38s 518ms/step - loss: 0.0904 - accuracy: 0.1507 - val_loss: 0.0900 - val_accuracy: 0.1039\n",
            "Epoch 15/20\n",
            "74/74 [==============================] - 39s 519ms/step - loss: 0.0910 - accuracy: 0.0494 - val_loss: 0.0906 - val_accuracy: 0.0800\n",
            "Epoch 16/20\n",
            "74/74 [==============================] - 38s 517ms/step - loss: 0.0910 - accuracy: 0.1761 - val_loss: 0.0933 - val_accuracy: 0.1195\n",
            "Epoch 17/20\n",
            "74/74 [==============================] - 39s 519ms/step - loss: 0.0889 - accuracy: 0.2138 - val_loss: 0.0904 - val_accuracy: 0.1259\n",
            "Epoch 18/20\n",
            "74/74 [==============================] - 39s 523ms/step - loss: 0.0896 - accuracy: 0.2016 - val_loss: 0.0972 - val_accuracy: 0.1192\n",
            "Epoch 19/20\n",
            "74/74 [==============================] - 39s 526ms/step - loss: 0.0904 - accuracy: 0.1300 - val_loss: 0.0935 - val_accuracy: 0.0894\n",
            "Epoch 20/20\n",
            "74/74 [==============================] - 39s 522ms/step - loss: 0.0888 - accuracy: 0.1283 - val_loss: 0.0928 - val_accuracy: 0.1078\n"
          ],
          "name": "stdout"
        }
      ]
    },
    {
      "cell_type": "code",
      "metadata": {
        "id": "WEhYBKFa6GmU"
      },
      "source": [
        "import numpy as np\n",
        "loss_history = (1-np.array(history.history['accuracy']))*100\n",
        "loss_history_test = (1-np.array(history.history['val_accuracy']))*100\n",
        "numpy_loss_history = np.array(loss_history)\n",
        "numpy_loss_history_test = np.array(loss_history_test)\n",
        "np.savetxt(\"/content/drive/MyDrive/PRML/loss_history_imagenet1_plainnet.csv\", numpy_loss_history)\n",
        "np.savetxt(\"/content/drive/MyDrive/PRML/loss_history_imagenet2_plainnet.csv\", numpy_loss_history_test)"
      ],
      "execution_count": null,
      "outputs": []
    },
    {
      "cell_type": "code",
      "metadata": {
        "id": "hkFbVq9R6TM-"
      },
      "source": [
        "model_2.compile(loss='mse', optimizer=opt, metrics=['accuracy'])"
      ],
      "execution_count": null,
      "outputs": []
    },
    {
      "cell_type": "code",
      "metadata": {
        "id": "VKxMiT_b6ny5"
      },
      "source": [
        "#history_2 = model_2.fit_generator(train, epochs=epoch, validation_data=val)"
      ],
      "execution_count": null,
      "outputs": []
    },
    {
      "cell_type": "code",
      "metadata": {
        "id": "V_hX0M2l6ole"
      },
      "source": [
        "#loss_history_test_2 = (1-np.array(history_2.history['val_accuracy']))*100\n",
        "#numpy_loss_history_2 = np.array(loss_history_2)\n",
        "#numpy_loss_history_test_2 = np.array(loss_history_test_2)\n",
        "#np.savetxt(\"/content/drive/MyDrive/PRML/loss_history_imagenet_34layer_1_plainnet.csv\", numpy_loss_history_2)\n",
        "#np.savetxt(\"/content/drive/MyDrive/PRML/loss_history_imagenet_34layer_2_plainnet.csv\", numpy_loss_history_test_2)"
      ],
      "execution_count": null,
      "outputs": []
    }
  ]
}