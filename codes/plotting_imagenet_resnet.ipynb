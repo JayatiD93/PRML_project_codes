{
  "nbformat": 4,
  "nbformat_minor": 0,
  "metadata": {
    "colab": {
      "name": "plotting_imagenet_resnet.ipynb",
      "provenance": [],
      "collapsed_sections": []
    },
    "kernelspec": {
      "name": "python3",
      "display_name": "Python 3"
    },
    "language_info": {
      "name": "python"
    }
  },
  "cells": [
    {
      "cell_type": "code",
      "metadata": {
        "colab": {
          "base_uri": "https://localhost:8080/"
        },
        "id": "Z2FGkK63ZBhN",
        "outputId": "55e1933b-ed09-42cf-e092-b8b0b89651d3"
      },
      "source": [
        "from google.colab import drive\n",
        "drive.mount('/content/drive')"
      ],
      "execution_count": null,
      "outputs": [
        {
          "output_type": "stream",
          "text": [
            "Drive already mounted at /content/drive; to attempt to forcibly remount, call drive.mount(\"/content/drive\", force_remount=True).\n"
          ],
          "name": "stdout"
        }
      ]
    },
    {
      "cell_type": "code",
      "metadata": {
        "colab": {
          "base_uri": "https://localhost:8080/"
        },
        "id": "uy2XzoIXZMYa",
        "outputId": "f84f02e6-ca71-45c5-9420-c47955793196"
      },
      "source": [
        "%cd /content/drive/MyDrive"
      ],
      "execution_count": null,
      "outputs": [
        {
          "output_type": "stream",
          "text": [
            "/content/drive/MyDrive\n"
          ],
          "name": "stdout"
        }
      ]
    },
    {
      "cell_type": "code",
      "metadata": {
        "colab": {
          "base_uri": "https://localhost:8080/"
        },
        "id": "eo7eDLpcZOQ3",
        "outputId": "2fe82bf6-0a01-4779-ee89-4222ccf0098d"
      },
      "source": [
        "%cd /content/drive/MyDrive/PRML"
      ],
      "execution_count": null,
      "outputs": [
        {
          "output_type": "stream",
          "text": [
            "/content/drive/MyDrive/PRML\n"
          ],
          "name": "stdout"
        }
      ]
    },
    {
      "cell_type": "code",
      "metadata": {
        "colab": {
          "base_uri": "https://localhost:8080/"
        },
        "id": "fyLiPwo4ndoQ",
        "outputId": "be0c7f20-f811-4983-a8c5-9da3b388b831"
      },
      "source": [
        "%ls"
      ],
      "execution_count": null,
      "outputs": [
        {
          "output_type": "stream",
          "text": [
            "data1.csv                loss_history_imagenet1.csv\n",
            "data1_plain.csv          loss_history_imagenet2.csv\n",
            "data1_testing.csv        loss_history_imagenet_34layer_1.csv\n",
            "data1_testing_plain.csv  loss_history_imagenet_34layer_2.csv\n",
            "data2.csv                loss_history_plain1.csv\n",
            "data2_plain.csv          loss_history_plain2.csv\n",
            "data2_testing.csv        loss_history_plain3.csv\n",
            "data2_testing_plain.csv  loss_history_plain4.csv\n",
            "data3.csv                loss_history_plain5.csv\n",
            "data3_plain.csv          loss_history_plain6.csv\n",
            "data3_testing.csv        loss_history_plain7.csv\n",
            "data3_testing_plain.csv  loss_history_plain8.csv\n",
            "data4.csv                model2.csv\n",
            "data4_plain.csv          model3.csv\n",
            "data4_testing.csv        model.csv\n",
            "data4_testing_plain.csv  my_model1_2.h5\n",
            "\u001b[0m\u001b[01;34mimagenette2-160\u001b[0m/         my_model.h5\n",
            "loss_history1.csv        resnet_imagenet_18_test.csv\n",
            "loss_history2.csv        resnet_imagenet_18_train.csv\n",
            "loss_history3.csv        resnet_imagenet_34_test.csv\n",
            "loss_history4.csv        resnet_imagenet_34_train.csv\n"
          ],
          "name": "stdout"
        }
      ]
    },
    {
      "cell_type": "code",
      "metadata": {
        "id": "pDii9tKrZRBl"
      },
      "source": [
        "import numpy as np\n",
        "import csv\n",
        "import matplotlib.pylab as plt\n",
        "from scipy.optimize import curve_fit\n",
        "from scipy import integrate as intg"
      ],
      "execution_count": null,
      "outputs": []
    },
    {
      "cell_type": "code",
      "metadata": {
        "id": "CI6mOsT5ZXJo"
      },
      "source": [
        "with open(\"/content/drive/MyDrive/PRML/resnet_imagenet_18_train.csv\",'r') as i:           #open a file in directory of this script for reading \n",
        "    rawdata1 = list(csv.reader(i,delimiter=\",\"))   #make a list of data in file"
      ],
      "execution_count": null,
      "outputs": []
    },
    {
      "cell_type": "code",
      "metadata": {
        "id": "tGcEXug-ZbdX"
      },
      "source": [
        "exampledata1 = np.array(rawdata1[1:],dtype=np.float)    #convert to data array\n",
        "\n",
        "xdata1 = exampledata1[:,0]\n",
        "ydata1 = exampledata1[:,1]"
      ],
      "execution_count": null,
      "outputs": []
    },
    {
      "cell_type": "code",
      "metadata": {
        "id": "A7L2KqIOgyiv"
      },
      "source": [
        "with open(\"/content/drive/MyDrive/PRML/resnet_imagenet_18_test.csv\",'r') as m:           #open a file in directory of this script for reading \n",
        "    rawdata1_testing = list(csv.reader(m,delimiter=\",\"))   #make a list of data in file"
      ],
      "execution_count": null,
      "outputs": []
    },
    {
      "cell_type": "code",
      "metadata": {
        "id": "-2lQnjK-g7_n"
      },
      "source": [
        "exampledata1_testing = np.array(rawdata1_testing[1:],dtype=np.float)    #convert to data array\n",
        "\n",
        "xdata1_testing = exampledata1_testing[:,0]\n",
        "ydata1_testing = exampledata1_testing[:,1]"
      ],
      "execution_count": null,
      "outputs": []
    },
    {
      "cell_type": "code",
      "metadata": {
        "id": "GLKZada8hDdL"
      },
      "source": [
        "with open(\"/content/drive/MyDrive/PRML/resnet_imagenet_34_train.csv\",'r') as j:           #open a file in directory of this script for reading \n",
        "    rawdata2 = list(csv.reader(j,delimiter=\",\"))   #make a list of data in file"
      ],
      "execution_count": null,
      "outputs": []
    },
    {
      "cell_type": "code",
      "metadata": {
        "id": "AurhfbSJhNS7"
      },
      "source": [
        "exampledata2 = np.array(rawdata2[1:],dtype=np.float)    #convert to data array\n",
        "\n",
        "xdata2 = exampledata2[:,0]\n",
        "ydata2 = exampledata2[:,1]"
      ],
      "execution_count": null,
      "outputs": []
    },
    {
      "cell_type": "code",
      "metadata": {
        "id": "NLa7hczVhPt2"
      },
      "source": [
        "with open(\"/content/drive/MyDrive/PRML/resnet_imagenet_34_test.csv\",'r') as n:           #open a file in directory of this script for reading \n",
        "    rawdata2_testing = list(csv.reader(n,delimiter=\",\"))   #make a list of data in file"
      ],
      "execution_count": null,
      "outputs": []
    },
    {
      "cell_type": "code",
      "metadata": {
        "id": "fwoqKjU7hU2r"
      },
      "source": [
        "exampledata2_testing = np.array(rawdata2_testing[1:],dtype=np.float)    #convert to data array\n",
        "\n",
        "xdata2_testing = exampledata2_testing[:,0]\n",
        "ydata2_testing = exampledata2_testing[:,1]"
      ],
      "execution_count": null,
      "outputs": []
    },
    {
      "cell_type": "code",
      "metadata": {
        "colab": {
          "base_uri": "https://localhost:8080/",
          "height": 457
        },
        "id": "DXqGrT8enoao",
        "outputId": "c0e55acb-6dee-4cad-df85-6a824b23c66c"
      },
      "source": [
        "plt.figure(1,dpi=120)\n",
        "plt.yscale('linear')\n",
        "plt.xscale('linear')\n",
        "#plt.xlim(0,4)\n",
        "#plt.ylim(0,2.5)\n",
        "#plt.title(\"Example Data\")\n",
        "plt.xlabel('Epoch')\n",
        "plt.ylabel('Error %')\n",
        "plt.plot(xdata1,ydata1,'c-',label=\"Training 18-layer\")\n",
        "plt.plot(xdata1_testing,ydata1_testing,'c--',label=\"Testing 18-layer\")\n",
        "plt.plot(xdata2,ydata2,'r-',label=\"Training 34-layer\")\n",
        "plt.plot(xdata2_testing,ydata2_testing,'r--',label=\"Testing 34-layer\")\n",
        "#plt.plot(xdata3,ydata3,'k-',label=\"Training 44-layer\")\n",
        "#plt.plot(xdata3_testing,ydata3_testing,'k--',label=\"Testing 44-layer\")\n",
        "#plt.plot(xdata4,ydata4,color='g',label=\"Training 56-layer\")\n",
        "#plt.plot(xdata4_testing,ydata4_testing,color='g',label=\"Testing 56-layer\")\n",
        "plt.grid(color='y')\n",
        "plt.legend()\n",
        "plt.show()"
      ],
      "execution_count": null,
      "outputs": [
        {
          "output_type": "display_data",
          "data": {
            "image/png": "[encoded data removed]",
            "text/plain": [
              "<Figure size 720x480 with 1 Axes>"
            ]
          },
          "metadata": {
            "tags": [],
            "needs_background": "light"
          }
        }
      ]
    }
  ]
}